{
 "cells": [
  {
   "cell_type": "markdown",
   "metadata": {},
   "source": [
    "# Pump Theory and Performance"
   ]
  },
  {
   "cell_type": "markdown",
   "metadata": {},
   "source": [
    "First, we will import the necessary packages to solve the problems."
   ]
  },
  {
   "cell_type": "code",
   "execution_count": 1,
   "metadata": {},
   "outputs": [],
   "source": [
    "from fluids import friction, core, fittings\n",
    "from fluids.piping import nearest_pipe\n",
    "from pyfluids import Fluid, FluidsList, Input\n",
    "import numpy as np\n",
    "from scipy.optimize import root_scalar\n",
    "from plotly.subplots import make_subplots"
   ]
  },
  {
   "cell_type": "markdown",
   "metadata": {},
   "source": [
    "## 1. Pump analysis using the Euler's equation and velocity triangle \n",
    "Given the following data for a centrifugal water pump, estimate \n",
    "- the design point discharge\n",
    "- the power delivered to the water\n",
    "- the head\n",
    "\n",
    "Given:\n",
    "- Radius at inlet and outlet: 0.1m 0.175m\n",
    "- Blade angle at inlet and outlet: \\\\(30^o\\\\), \\\\(20^o\\\\)\n",
    "- Impeller speed: 1440 revolution per min (RPM)\n",
    "- Impeller width at inlet and outlet: 4.25cm\n",
    "\n",
    "<p style=\"text-align: center;\">\n",
    "============== Answer ==============\n",
    "</p>\n",
    "\n",
    "Let's assume that there is no rotation in the inlet water. Therefore, the velocity triangle at the inlet will look like following:\n",
    "\n",
    "<p style=\"text-align: center;\">\n",
    "  <img src=\"../docs/src/img/pump_analysis_inlet_triangle1.png\" alt=\"Inlet velocity triangle\" width=200>\n",
    "</p>\n",
    "\n",
    "Then, the discharge rate can be obtained as such:"
   ]
  },
  {
   "cell_type": "code",
   "execution_count": 2,
   "metadata": {},
   "outputs": [
    {
     "name": "stdout",
     "output_type": "stream",
     "text": [
      "Velocities:\n",
      "\t u1 = 15.08 m/s \n",
      "\t v1 = 8.71 m/s\n"
     ]
    },
    {
     "data": {
      "image/png": "[encoded data removed]"
     },
     "metadata": {},
     "output_type": "display_data"
    },
    {
     "name": "stdout",
     "output_type": "stream",
     "text": [
      "Flow rate: 837.0 m3/h\n"
     ]
    }
   ],
   "source": [
    "water = Fluid(FluidsList.Water).with_state(\n",
    "    Input.pressure(1e5), Input.temperature(20)\n",
    ")\n",
    "inlet_impeller_radius_m = 0.10\n",
    "outlet_impeller_radius_m = 0.175\n",
    "inlet_blade_angle_deg = 30\n",
    "outlet_blade_angle_deg = 20\n",
    "impeller_rotation_speed_rpm = 1440\n",
    "impeller_width_m = 0.0425\n",
    "\n",
    "# First convert the values to SI units\n",
    "impeller_rotation_speed_rad_per_s = 1440 / 60 * 2 * np.pi\n",
    "\n",
    "# Calculate the velocities\n",
    "u1 = impeller_rotation_speed_rad_per_s * inlet_impeller_radius_m\n",
    "v1 = u1 * np.tan(np.deg2rad(inlet_blade_angle_deg))\n",
    "print(f\"Velocities:\\n\\t u1 = {u1:.2f} m/s \\n\\t v1 = {v1:.2f} m/s\")\n",
    "\n",
    "# Plot the velocity triangle\n",
    "def plot_velocity_triangle(u, v, alpha_deg, beta_deg):\n",
    "    fig = make_subplots()\n",
    "    fig.add_scatter(x=[0, u], y=[0, 0], name=\"u\")\n",
    "    alpha_rad = np.deg2rad(alpha_deg)\n",
    "    fig.add_scatter(x=[0, v * np.cos(alpha_rad)], y=[0, v * np.sin(alpha_rad)], name=\"v\")\n",
    "    fig.update_layout(height=300, width=500)\n",
    "    fig.update_yaxes(scaleanchor=\"x\", scaleratio=1)\n",
    "    fig.show(renderer=\"png\")\n",
    "\n",
    "plot_velocity_triangle(\n",
    "    u=u1, \n",
    "    v=v1, \n",
    "    alpha_deg=90,\n",
    "    beta_deg=inlet_blade_angle_deg\n",
    ")\n",
    "\n",
    "# Calculate the flow rate\n",
    "def get_flow_impeller_m3_per_s(radial_velocity_m_per_s, width_m, radius_m):\n",
    "    return 2 * np.pi * radius_m * width_m * radial_velocity_m_per_s\n",
    "\n",
    "flow_rate_m3_per_s = get_flow_impeller_m3_per_s(\n",
    "    radial_velocity_m_per_s=v1,\n",
    "    width_m=impeller_width_m,\n",
    "    radius_m=inlet_impeller_radius_m\n",
    ")\n",
    "print(f\"Flow rate: {flow_rate_m3_per_s * 3600:.1f} m3/h\")\n"
   ]
  },
  {
   "cell_type": "markdown",
   "metadata": {},
   "source": [
    "The velocity triangle can be drawn for the outlet from the given conditions. The radial velocity \\\\(V_n2\\\\) can be determined from flow rate calculated.\n",
    "\n",
    "<p style=\"text-align: center;\">\n",
    "  <img src=\"../docs/src/img/pump_analysis_outlet_triangle1.png\" alt=\"Inlet velocity triangle\" width=200>\n",
    "</p>"
   ]
  },
  {
   "cell_type": "code",
   "execution_count": 3,
   "metadata": {},
   "outputs": [
    {
     "name": "stdout",
     "output_type": "stream",
     "text": [
      "Power: 77904.01 W\n"
     ]
    },
    {
     "data": {
      "image/png": "[encoded data removed]"
     },
     "metadata": {},
     "output_type": "display_data"
    }
   ],
   "source": [
    "u2 = outlet_impeller_radius_m * impeller_rotation_speed_rad_per_s\n",
    "area_outlet_m2 = 2 * np.pi * outlet_impeller_radius_m * impeller_width_m\n",
    "v_n2 = flow_rate_m3_per_s / area_outlet_m2\n",
    "v_t2 = u2 - v_n2 / np.tan(np.deg2rad(outlet_blade_angle_deg))\n",
    "power = water.density * flow_rate_m3_per_s * (u2 * v_t2) \n",
    "print(f\"Power: {power:.2f} W\")\n",
    "\n",
    "alpha = np.degrees(np.arctan(v_n2 / v_t2))\n",
    "v2 = np.sqrt(v_n2**2 + v_t2**2)\n",
    "plot_velocity_triangle(u=u2, v=v2, alpha_deg=alpha, beta_deg=outlet_blade_angle_deg)"
   ]
  },
  {
   "cell_type": "markdown",
   "metadata": {},
   "source": [
    "The head can be estimated the assumption that there is no flow or energy loss in the impeller."
   ]
  },
  {
   "cell_type": "code",
   "execution_count": 4,
   "metadata": {},
   "outputs": [
    {
     "name": "stdout",
     "output_type": "stream",
     "text": [
      "Head is 34.2 m\n"
     ]
    }
   ],
   "source": [
    "gravitational_acc_m2_per_s = 9.81\n",
    "head = power / (water.density * gravitational_acc_m2_per_s * flow_rate_m3_per_s)\n",
    "print(f\"Head is {head:.1f} m\")"
   ]
  },
  {
   "cell_type": "markdown",
   "metadata": {},
   "source": [
    "As we have seen, we usually ignore the tangential velocity of the inlet flow. Then,\n",
    "\n",
    "$$\n",
    "P_w = \\rho Q u_2 V_{t2}\n",
    "$$\n",
    "\n",
    "where\n",
    "\n",
    "$$\n",
    "V_{t2} = u_2 - V_{n2} cot \\beta_2 \\quad V_{n2} = \\frac{Q}{2\\pi r_2 b_2}\n",
    "$$\n",
    "\n",
    "From, the above we get\n",
    "\n",
    "$$\n",
    "H\\approx \\frac{u_2^2}{g} - \\frac{u_2 \\cot \\beta_2}{2 \\pi r_2 b_2 g}Q\n",
    "$$\n"
   ]
  },
  {
   "cell_type": "code",
   "execution_count": 4,
   "outputs": [],
   "source": [],
   "metadata": {
    "collapsed": false
   }
  }
 ],
 "metadata": {
  "kernelspec": {
   "display_name": "Python 3 (ipykernel)",
   "language": "python",
   "name": "python3"
  },
  "language_info": {
   "codemirror_mode": {
    "name": "ipython",
    "version": 3
   },
   "file_extension": ".py",
   "mimetype": "text/x-python",
   "name": "python",
   "nbconvert_exporter": "python",
   "pygments_lexer": "ipython3",
   "version": "3.9.15"
  }
 },
 "nbformat": 4,
 "nbformat_minor": 4
}
