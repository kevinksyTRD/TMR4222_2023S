{
 "cells": [
  {
   "cell_type": "markdown",
   "metadata": {},
   "source": [
    "# Displacement Pump Performance"
   ]
  },
  {
   "cell_type": "markdown",
   "metadata": {},
   "source": [
    "First, we will import the necessary packages to solve the problems.\n"
   ]
  },
  {
   "cell_type": "code",
   "execution_count": 1,
   "metadata": {},
   "outputs": [],
   "source": [
    "import numpy as np"
   ]
  },
  {
   "cell_type": "markdown",
   "metadata": {},
   "source": [
    "## 1. Volumetric Efficiency\n",
    "A pump having a volumetric efficiency of 96% delivers 29 liter per minute of oil at 1000 RPM. What is the volumetric displacement of the pump?\n",
    "\n",
    "============== Answer ==============\n",
    "\n",
    "We will use the following equations to get the answers.\n",
    "\n",
    "$$\n",
    "\\eta_{v} = \\frac{Q_A}{Q_T}\n",
    "$$\n",
    "\n",
    "$$\n",
    "Q_T = V_D \\cdot N\n",
    "$$\n",
    "\n",
    "$$\n",
    "V_D = \\frac{Q_A}{\\eta_v N}\n",
    "$$"
   ]
  },
  {
   "cell_type": "code",
   "execution_count": 2,
   "metadata": {},
   "outputs": [
    {
     "name": "stdout",
     "output_type": "stream",
     "text": [
      "Volumetric displacement: 0.0302L\n"
     ]
    }
   ],
   "source": [
    "# Following is given from the problem:\n",
    "vol_flow_liter_per_min = 29\n",
    "efficiency_vol = 0.96\n",
    "speed_rpm = 1000\n",
    "vol_disp_liter = vol_flow_liter_per_min / efficiency_vol / speed_rpm\n",
    "\n",
    "print(f\"Volumetric displacement: {vol_disp_liter:.4f}L\")"
   ]
  },
  {
   "cell_type": "markdown",
   "metadata": {},
   "source": [
    "## Displacement Pump Performance\n",
    "A pump has a displacement volume of 100 cm<sup>3</sup>. It delivers 0.0152 m<sup>3</sup>/s of oil at 1000 RPM and 70 bar. If the prime mover input torque is 124.3Nm. What is the overall efficiency of the pump? What is the theoretical torque required to operate the pump?"
   ]
  },
  {
   "cell_type": "code",
   "execution_count": 3,
   "metadata": {},
   "outputs": [
    {
     "name": "stdout",
     "output_type": "stream",
     "text": [
      "The overall efficiency of the pump is 0.817\n",
      "The volume efficiency of the pump is 0.912\n",
      "The mechanical efficiency of the pump is 0.896\n",
      "The ideal torque is 138.7Nm\n"
     ]
    }
   ],
   "source": [
    "# Solution\n",
    "vol_disp_m3 = 100e-6\n",
    "vol_flow_m3_per_s = 0.00152\n",
    "speed_rpm = 1000\n",
    "pressure_pump_pa = 70e5\n",
    "torque_shaft_nm = 124.3\n",
    "\n",
    "# Overall efficiency\n",
    "speed_rad_per_s = speed_rpm / 60 * 2 * np.pi\n",
    "efficiency_overall = pressure_pump_pa * vol_flow_m3_per_s / (torque_shaft_nm * speed_rad_per_s)\n",
    "print(f\"The overall efficiency of the pump is {efficiency_overall:.3f}\")\n",
    "\n",
    "# Volumetric / mechanical efficiency\n",
    "efficiency_vol = vol_flow_m3_per_s / (vol_disp_m3 * speed_rpm / 60)\n",
    "print(f\"The volume efficiency of the pump is {efficiency_vol:.3f}\")\n",
    "efficiency_mech = efficiency_overall / efficiency_vol\n",
    "print(f\"The mechanical efficiency of the pump is {efficiency_mech:.3f}\")\n",
    "torque_ideal_nm = torque_shaft_nm / efficiency_mech\n",
    "print(f\"The ideal torque is {torque_ideal_nm:.1f}Nm\")\n"
   ]
  }
 ],
 "metadata": {
  "kernelspec": {
   "display_name": "Python 3 (ipykernel)",
   "language": "python",
   "name": "python3"
  }
 },
 "nbformat": 4,
 "nbformat_minor": 4
}
