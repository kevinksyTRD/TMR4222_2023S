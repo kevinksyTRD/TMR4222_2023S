{
 "cells": [
  {
   "cell_type": "markdown",
   "metadata": {},
   "source": [
    "# Pipe friction calculation"
   ]
  },
  {
   "cell_type": "markdown",
   "metadata": {},
   "source": [
    "First, we will import the necessary packages to solve the problems.\n"
   ]
  },
  {
   "cell_type": "code",
   "execution_count": 1,
   "metadata": {},
   "outputs": [],
   "source": [
    "from fluids import friction, core, fittings\n",
    "from fluids.piping import nearest_pipe\n",
    "from pyfluids import Fluid, FluidsList, Input\n",
    "import numpy as np\n",
    "from scipy.optimize import root_scalar"
   ]
  },
  {
   "cell_type": "markdown",
   "metadata": {},
   "source": [
    "## 1. Water flow\n",
    "Water at 30<sup>o</sup>C flows through a 20m length of 50mm steel pipe (smooth wall) of Sch. 40 at a flow rate of 200 l/min. Calculate the Reynolds number and friction factor. What is the pressure drop and head loss in the pipe?\n",
    "\n",
    "\n",
    "<p style=\"text-align: center;\">\n",
    "============== Answer ==============\n",
    "</p>\n",
    "\n",
    "\n",
    "We will use the following equations to get the answers.\n",
    "\n",
    "$$\n",
    "\\text{Re} _d = \\frac{\\rho V D}{\\mu}\n",
    "$$\n",
    "\n",
    "$$\n",
    "h_f = f_d\\left(Re\\right) \\frac{1}{2g} \\frac{V^2}{D}\n",
    "$$\n",
    "\n",
    "The density (\\\\(\\rho\\\\)) and dynamic viscosity (\\\\(\\mu\\\\)) of water can be obtained using `pyfluids` package which is a wrapper for `CoolProp`."
   ]
  },
  {
   "cell_type": "code",
   "execution_count": 2,
   "metadata": {},
   "outputs": [
    {
     "name": "stdout",
     "output_type": "stream",
     "text": [
      "Roughness of the pipe is 0.000500\n",
      "The inner diameter of the pipe is: 0.0525m\n",
      "Re = 101000.2\n",
      "Re = 101000.2 from fluids API\n",
      "Friction factor is 0.0379\n",
      "Head loss is 1.75 m\n",
      "pressure drop is 17076 Pa\n"
     ]
    }
   ],
   "source": [
    "# Following is given from the problem:\n",
    "temp_water_deg_C = 30\n",
    "length_pipe_m = 20\n",
    "nominal_diamter_m = 0.05\n",
    "pipe_schedule = \"40\"\n",
    "flow_l_per_min = 200\n",
    "roughness = friction.material_roughness(\"clean steel pipe\")\n",
    "grav_acc_m_per_s2 = 9.81\n",
    "print(f\"Roughness of the pipe is {roughness:.6f}\")\n",
    "\n",
    "# First, let's define our water\n",
    "water = Fluid(FluidsList.Water).with_state(\n",
    "    Input.pressure(1e5), Input.temperature(temp_water_deg_C)\n",
    ")\n",
    "\n",
    "# Calculate the inner diameter of the pipe\n",
    "nps, d_inner_m, d_outer_m, thickness_m = nearest_pipe(Di=0.05, schedule=\"40\")\n",
    "\n",
    "print(f\"The inner diameter of the pipe is: {d_inner_m:.4f}m\")\n",
    "\n",
    "# Calculate the velocity from the flow and the diameter\n",
    "flow_m3_per_s = flow_l_per_min / 60 / 1e3\n",
    "area_pipe_m2 = d_inner_m ** 2 * np.pi / 4\n",
    "velocity_m_per_s = flow_m3_per_s / area_pipe_m2\n",
    "\n",
    "# Calculate Reynolds number\n",
    "re = water.density * velocity_m_per_s * d_inner_m / water.dynamic_viscosity\n",
    "print(f\"Re = {re:.1f}\")\n",
    "\n",
    "# Let's try the API\n",
    "re_api = core.Reynolds(\n",
    "    V=velocity_m_per_s, D=d_inner_m, rho=water.density, mu=water.dynamic_viscosity\n",
    ")\n",
    "print(f\"Re = {re_api:.1f} from fluids API\")\n",
    "\n",
    "# Calulcate friction factor\n",
    "fric_factor = friction.friction_factor(Re=re, eD=roughness/d_inner_m)\n",
    "print(f\"Friction factor is {fric_factor:.4f}\")\n",
    "\n",
    "# Calculate pressure drop and head loss with Darcy-Weibach equation\n",
    "head_loss = fric_factor \\\n",
    "    * 1 / (2 * grav_acc_m_per_s2) \\\n",
    "    * velocity_m_per_s**2 / d_inner_m \\\n",
    "    * length_pipe_m\n",
    "p_drop = water.density * grav_acc_m_per_s2 * head_loss\n",
    "print(f\"Head loss is {head_loss:.2f} m\")\n",
    "print(f\"pressure drop is {p_drop:.0f} Pa\")"
   ]
  },
  {
   "cell_type": "markdown",
   "metadata": {},
   "source": [
    "We can try an API from `fluids` to get the same answer ."
   ]
  },
  {
   "cell_type": "code",
   "execution_count": 3,
   "metadata": {},
   "outputs": [
    {
     "name": "stdout",
     "output_type": "stream",
     "text": [
      "Pressure drop from API is: 17076 Pa\n",
      "Head loss from API is: 1.748 m\n"
     ]
    }
   ],
   "source": [
    "mass_flow_kg_per_s = flow_m3_per_s * water.density\n",
    "p_drop = friction.one_phase_dP(\n",
    "    m=mass_flow_kg_per_s,\n",
    "    rho=water.density,\n",
    "    mu=water.dynamic_viscosity,\n",
    "    D=d_inner_m,\n",
    "    roughness=roughness,\n",
    "    L=length_pipe_m\n",
    ")\n",
    "head_loss = p_drop / (water.density * grav_acc_m_per_s2)\n",
    "print(f\"Pressure drop from API is: {p_drop:.0f} Pa\")\n",
    "print(f\"Head loss from API is: {head_loss:.3f} m\")"
   ]
  },
  {
   "cell_type": "markdown",
   "metadata": {},
   "source": [
    "## 2. Find flow from the pressure drop\n",
    "We measured the pressure drop of the pipe and we found it to be 25000 Pa. What is the flow in the pipe? \n",
    "\n",
    "\n",
    "<p style=\"text-align: center;\">\n",
    "============== Answer ==============\n",
    "</p>\n",
    "\n",
    "\n",
    "Finding flow from the pressure drop is not a trivial problem because the function to solve is non-linear implicit equation.\n",
    "\n",
    "$$\n",
    "\\Delta p = f_d\\left(\\mathrm{Re}_D\\right) \\frac{\\rho}{2} \\frac{V^2}{D_i} \\cdot L\n",
    "$$\n",
    "\n",
    "$$\n",
    "\\text{Re} _d = \\frac{\\rho V D}{\\mu}\n",
    "$$\n",
    "\n",
    "$$\n",
    "Q = V \\cdot A = \\frac{\\pi D^2}{4} V\n",
    "$$\n",
    "\n",
    "First, we will try with an assumption that the friction factor is constant as the Re is quite high.\n",
    "\n",
    "$$\n",
    "V = \\sqrt{\\Delta p \\cdot \\frac{2D_i}{f_d \\rho L} }\n",
    "$$"
   ]
  },
  {
   "cell_type": "code",
   "execution_count": 4,
   "metadata": {},
   "outputs": [
    {
     "name": "stdout",
     "output_type": "stream",
     "text": [
      "Water flow is 242.0 l/min or 4.02 kg/s\n"
     ]
    }
   ],
   "source": [
    "p_drop_pa = 25000\n",
    "velocity_m_per_s = np.sqrt(\n",
    "    p_drop_pa * 2 * d_inner_m \\\n",
    "    / (fric_factor * water.density * length_pipe_m)\n",
    ")\n",
    "flow_m3_per_s = velocity_m_per_s * area_pipe_m2\n",
    "flow_l_per_min = flow_m3_per_s * 60 * 1000\n",
    "flow_kg_per_s = flow_m3_per_s * water.density\n",
    "print(f\"Water flow is {flow_l_per_min:.1f} l/min or {flow_kg_per_s:.2f} kg/s\")"
   ]
  },
  {
   "cell_type": "markdown",
   "metadata": {},
   "source": [
    "We can try to verify it by calculating the pressure drop again."
   ]
  },
  {
   "cell_type": "code",
   "execution_count": 5,
   "metadata": {},
   "outputs": [
    {
     "name": "stdout",
     "output_type": "stream",
     "text": [
      "Presure drop calculated back is 24931.0 Pa\n"
     ]
    }
   ],
   "source": [
    "p_drop_estimated = friction.one_phase_dP(\n",
    "    m=flow_kg_per_s,\n",
    "    rho=water.density,\n",
    "    mu=water.dynamic_viscosity,\n",
    "    D=d_inner_m,\n",
    "    roughness=roughness,\n",
    "    L=length_pipe_m\n",
    ")\n",
    "print(f\"Presure drop calculated back is {p_drop_estimated:.1f} Pa\")"
   ]
  },
  {
   "cell_type": "markdown",
   "metadata": {},
   "source": [
    "This may be close enough. However, we can get more accurate solution by solving the equation numerically. First, we define the function that is the equation to solve. \n",
    "\n",
    "$$\n",
    "f(Q) = \\Delta P - \\Delta P(Q) = 0\n",
    "$$"
   ]
  },
  {
   "cell_type": "code",
   "execution_count": 6,
   "metadata": {},
   "outputs": [],
   "source": [
    "def function_to_solve(x_as_flow_l_per_min):\n",
    "    flow_kg_per_s = x_as_flow_l_per_min / 60 / 1000 * water.density\n",
    "    return p_drop_pa - friction.one_phase_dP(\n",
    "        m=flow_kg_per_s,\n",
    "        rho=water.density,\n",
    "        mu=water.dynamic_viscosity,\n",
    "        D=d_inner_m,\n",
    "        roughness=roughness,\n",
    "        L=length_pipe_m\n",
    "    )"
   ]
  },
  {
   "cell_type": "markdown",
   "metadata": {},
   "source": [
    "Then, we can use the solver in `SciPy` package to solve the eqation."
   ]
  },
  {
   "cell_type": "code",
   "execution_count": 7,
   "metadata": {},
   "outputs": [
    {
     "name": "stdout",
     "output_type": "stream",
     "text": [
      "The accurate answer is 242.33 l/min\n"
     ]
    }
   ],
   "source": [
    "solution = root_scalar(f=function_to_solve, x0=flow_l_per_min, x1=flow_l_per_min * 0.99)\n",
    "print(f\"The accurate answer is {solution.root:.2f} l/min\")"
   ]
  },
  {
   "cell_type": "markdown",
   "metadata": {},
   "source": [
    "## 3. Friction from pipe fittings and valves"
   ]
  },
  {
   "cell_type": "markdown",
   "metadata": {},
   "source": [
    "Given the following pipe fittings and pipe, calculate the pressure drop of the pipe section.\n",
    "\n",
    "- fluid: methane at -163 <sup>o</sup>C and 1 bar\n",
    "- flow: 9000 m<sup>3</sup>/h\n",
    "- nominal pipe diameter: 450mm, \n",
    "- Clean stainless steel pipe\n",
    "- pipe schedule: 80s\n",
    "- pipe length: 24m\n",
    "- 90<sup>o</sup> bend: bend radius 457mm\n",
    "- Valve: Gate valve with \\\\(Cv=24000\\\\)\n",
    "\n",
    "\n",
    "<p style=\"text-align: center;\">\n",
    "============== Answer ==============\n",
    "</p>\n",
    "\n",
    "\n",
    "We will calculate the pressure drop for the pipe and calculate K value for each fitting or\n",
    "valve to calculate the pressure drop with the following formula.\n",
    "\n",
    "$$\n",
    "K=\\frac{\\Delta p}{0.5 \\rho V^2}\n",
    "$$\n",
    "\n",
    "$$\n",
    "\\sum \\Delta p = \\Delta p_{\\text{pipe}} + {0.5 \\rho V^2} \\sum K\n",
    "$$\n",
    "\n",
    "$$\n",
    "K=1.6 \\times 10^9 \\frac{D^4}{\\left(C_v / 1.56\\right)^2}\n",
    "$$\n"
   ]
  },
  {
   "cell_type": "code",
   "execution_count": 8,
   "metadata": {},
   "outputs": [
    {
     "name": "stdout",
     "output_type": "stream",
     "text": [
      "Liquid methane: \n",
      "\tdensity: 424.5701316256901 kg/m3\n",
      "\tdynamic viscosity: 1.210e-04 Pa s\n",
      "Roughness of the pipe is 6.000e-04\n",
      "K for the bend is 0.353\n",
      "K for the valve is 0.160\n",
      "Pressure drop [Pa]:\n",
      "\tpipe: 55294\n",
      "\tbend: 17625\n",
      "\tvalve: 7986\n",
      "\ttotal: 80904\n",
      "\t\n"
     ]
    }
   ],
   "source": [
    "liquid_methane = Fluid(FluidsList.Methane).with_state(\n",
    "    Input.pressure(1e5), Input.temperature(-163)\n",
    ")\n",
    "print(f\"Liquid methane: \\n\\t\"\n",
    "      f\"density: {liquid_methane.density} kg/m3\\n\\t\"\n",
    "      f\"dynamic viscosity: {liquid_methane.dynamic_viscosity:.3e} Pa s\")\n",
    "\n",
    "flow_m3_per_h = 9000\n",
    "roughness = friction.material_roughness(\"clean stainless steel pipe\")\n",
    "print(f\"Roughness of the pipe is {roughness:.3e}\")\n",
    "nps, d_inner_m, d_outer_m, thickness_m = nearest_pipe(Di=0.45, schedule=\"80\")\n",
    "length_pipe_m = 24\n",
    "bend_radius_m = 0.457\n",
    "c_v_valvue = 24000\n",
    "\n",
    "# We need Reynods number to calculate K for the bend\n",
    "area_pipe_section = np.pi * d_inner_m**2 / 4\n",
    "velocity_m_per_s = flow_m3_per_h / 3600 / area_pipe_section\n",
    "re = liquid_methane.density * velocity_m_per_s * d_inner_m \\\n",
    "    / liquid_methane.dynamic_viscosity\n",
    "\n",
    "# get the K value for the bend\n",
    "k_bend = fittings.bend_rounded(\n",
    "    Di=d_inner_m,\n",
    "    angle=90,\n",
    "    rc=bend_radius_m,\n",
    "    Re=re,\n",
    "    roughness=roughness\n",
    ")\n",
    "print(f\"K for the bend is {k_bend:.3f}\")\n",
    "\n",
    "# Convert Cv to K for the valvue\n",
    "k_valve = 1.6e9 * d_inner_m**4 / (c_v_valvue / 1.1561)**2\n",
    "print(f\"K for the valve is {k_valve:.3f}\")\n",
    "# We can also use the prebuilt function\n",
    "k_valve_api = fittings.Cv_to_K(Cv=c_v_valvue, D=d_inner_m)\n",
    "assert np.isclose(k_valve, k_valve_api), f\"The values are different {k_valve} vs {k_valve_api}\"\n",
    "\n",
    "# Calculate the pressure drop for each\n",
    "flow_kg_per_s = flow_m3_per_h / 3600 * liquid_methane.density\n",
    "p_drop_pipe = friction.one_phase_dP(\n",
    "    m=flow_kg_per_s,\n",
    "    rho=liquid_methane.density,\n",
    "    mu=liquid_methane.dynamic_viscosity,\n",
    "    D=d_inner_m,\n",
    "    roughness=roughness,\n",
    "    L=length_pipe_m\n",
    ")\n",
    "p_drop_bend = k_bend * 0.5 * liquid_methane.density * velocity_m_per_s**2\n",
    "p_drop_valve = k_valve * 0.5 * liquid_methane.density * velocity_m_per_s**2\n",
    "p_drop_total = p_drop_pipe + p_drop_bend + p_drop_valve\n",
    "print(\"Pressure drop [Pa]:\\n\\t\"\n",
    "      f\"pipe: {p_drop_pipe:.0f}\\n\\t\"\n",
    "      f\"bend: {p_drop_bend:.0f}\\n\\t\"\n",
    "      f\"valve: {p_drop_valve:.0f}\\n\\t\"\n",
    "      f\"total: {p_drop_total:.0f}\\n\\t\")"
   ]
  }
 ],
 "metadata": {
  "kernelspec": {
   "display_name": "Python 3 (ipykernel)",
   "language": "python",
   "name": "python3"
  },
  "language_info": {
   "codemirror_mode": {
    "name": "ipython",
    "version": 3
   },
   "file_extension": ".py",
   "mimetype": "text/x-python",
   "name": "python",
   "nbconvert_exporter": "python",
   "pygments_lexer": "ipython3",
   "version": "3.9.15"
  }
 },
 "nbformat": 4,
 "nbformat_minor": 4
}
