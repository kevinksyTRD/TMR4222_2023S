{
 "cells": [
  {
   "cell_type": "markdown",
   "metadata": {},
   "source": [
    "# Pipe Network Analysis"
   ]
  },
  {
   "cell_type": "markdown",
   "metadata": {},
   "source": [
    "Calculate the pressure at the nodes and flow in the pipes for the following pipe network in which water flows. The pipe sizes and pressure / flow boundary conditions are given as follows:\n",
    "\n",
    "<p style=\"text-align: center\">\n",
    "    <img src=\"../docs/src/img/pipe_network.png\" width=500>\n",
    "</p>\n",
    "\n",
    "| Branch id | Nominal Diameter | Length |\n",
    "|:---------:|:----------------:|:------:|\n",
    "|     1     |       400        |   20   |\n",
    "|     2     |       400        |   25   |\n",
    "|     3     |       500        |   15   |\n",
    "|     4     |       400        |   24   |\n",
    "|     5     |       400        |   24   |\n",
    "|     6     |       600        |   30   |\n",
    "\n",
    "\n",
    "- \\\\(p_{b1}\\\\) = 175000 Pa, \\\\(p_{b2}\\\\) = 175000 Pa, \\\\(p_{b3}\\\\) = 178000 Pa, \\\\(p_{b4}\\\\) = 178000 Pa,\n",
    "- \\\\(Q_{fb}\\\\) = 1.5 m3/s\n",
    "- Roughness of the pipe is 2e-5\n",
    "- Pipe schedule is 40\n",
    "\n"
   ]
  },
  {
   "cell_type": "code",
   "execution_count": 1,
   "metadata": {},
   "outputs": [],
   "source": [
    "# First import the packages\n",
    "from fluids import friction, core, fittings\n",
    "from fluids.piping import nearest_pipe\n",
    "from pyfluids import Fluid, FluidsList, Input\n",
    "import numpy as np\n",
    "from scipy.optimize import root_scalar, root"
   ]
  },
  {
   "cell_type": "code",
   "execution_count": 2,
   "metadata": {},
   "outputs": [],
   "source": [
    "# Property\n",
    "water = Fluid(FluidsList.Water).with_state(Input.pressure(1e5), Input.temperature(20))\n",
    "\n",
    "# The boundary conditions\n",
    "q_fb1 = 1.5 # m3/s\n",
    "mass_flow_fb1_kg_per_s = q_fb1 * water.density\n",
    "p_b1 = 1.75e5 # Pa g\n",
    "p_b2 = 1.75e5 # Pa g\n",
    "p_b3 = 1.78e5 # Pa g\n",
    "p_b4 = 1.78e5 # Pa g\n",
    "\n",
    "# Pipe dimenstions and roughness\n",
    "nominal_dia_list_m = [0.400, 0.400, 0.500, 0.400, 0.400, 0.600]\n",
    "inner_dia_list_m = []\n",
    "for nominal_dia in nominal_dia_list_m:\n",
    "    nps, d_inner, d_outer, t = nearest_pipe(Di=nominal_dia, schedule=\"40\")\n",
    "    inner_dia_list_m.append(d_inner)\n",
    "length_list_m = [20, 25, 15, 24, 24, 30]\n",
    "roughness = 2e-5"
   ]
  },
  {
   "cell_type": "markdown",
   "metadata": {},
   "source": [
    "We can assign the causality to the branches. \n",
    "<p style=\"text-align: center\">\n",
    "    <img src=\"../docs/src/img/pipe_network_with_causality.png\" width=500>\n",
    "</p>"
   ]
  },
  {
   "cell_type": "markdown",
   "metadata": {},
   "source": [
    "## Equation Writing"
   ]
  },
  {
   "cell_type": "markdown",
   "metadata": {},
   "source": [
    "Then, we can start writing the equations in the following form.\n",
    "\n",
    "$$\n",
    "\\begin{aligned}\n",
    "p_{n1} = f_1(p_{n1}, p_{n2})\\\\\n",
    "p_{n2} = f_2(p_{n1}, p_{n2})\n",
    "\\end{aligned}\n",
    "$$\n",
    "\n",
    "$$\n",
    "\\begin{aligned}\n",
    "p_{n1} & = p_{n2} + \\Delta p (Q_3)\\\\\n",
    "       & Q_3 = Q_1 + Q_2\\\\\n",
    "       & Q_1 = Q_1\\left(p_{b1} - p_{n1}\\right)\\\\\n",
    "       & Q_2 = Q_2\\left(p_{b2} - p_{n1}\\right)  \\\\     \n",
    "p_{n2} & = p_{b3} - \\Delta p (Q_4)\\\\\n",
    "       & Q_4 = Q_6 - Q_3 - Q_5\\\\\n",
    "       & Q_6 = Q_{fb1}\\\\\n",
    "       & Q_5 = Q_5\\left(p_{b4} - p_{n2}\\right)\n",
    "\\end{aligned}\n",
    "$$\n",
    "\n",
    "First, we will make a function that calculates pressure drop with a given flow."
   ]
  },
  {
   "cell_type": "code",
   "execution_count": 3,
   "metadata": {},
   "outputs": [],
   "source": [
    "def get_pressure_drop_pa(\n",
    "    flow_kg_per_s: float,\n",
    "    branch_id: int\n",
    ") -> float:    \n",
    "    \"\"\"Calculates pressure drop given the flow\"\"\"\n",
    "    return friction.one_phase_dP(\n",
    "        m=flow_kg_per_s,\n",
    "        rho=water.density,\n",
    "        roughness=roughness,\n",
    "        mu=water.dynamic_viscosity,\n",
    "        D=inner_dia_list_m[branch_id - 1],\n",
    "        L=length_list_m[branch_id - 1]\n",
    "    )"
   ]
  },
  {
   "cell_type": "markdown",
   "metadata": {
    "tags": []
   },
   "source": [
    "## Initial values\n",
    "We need the initial values to solve the equations. We will assume the same flow for branches 1, 2, 4, 5."
   ]
  },
  {
   "cell_type": "code",
   "execution_count": 4,
   "metadata": {},
   "outputs": [
    {
     "name": "stdout",
     "output_type": "stream",
     "text": [
      "Initial_flows for pipes [kg/s]:\n",
      "\t1 - 374.33\n",
      "\t2 - 374.33\n",
      "\t3 - 748.65\n",
      "\t4 - 374.33\n",
      "\t5 - 374.33\n",
      "\t6 - 1497.31\n",
      "Initial pressure for nodes [Pa]:\n",
      "\t1 - 176914\n",
      "\t2 - 175648\n"
     ]
    }
   ],
   "source": [
    "mass_flow_init = np.zeros(6)\n",
    "mass_flow_init[5] = mass_flow_fb1_kg_per_s\n",
    "mass_flow_init[4] = mass_flow_init[5] * 0.25\n",
    "mass_flow_init[3] = mass_flow_init[5] * 0.25\n",
    "mass_flow_init[2] = mass_flow_init[5] * 0.5\n",
    "mass_flow_init[1] = mass_flow_init[5] * 0.25\n",
    "mass_flow_init[0] = mass_flow_init[5] * 0.25\n",
    "\n",
    "p_init = np.zeros(2)\n",
    "p_init[1] = p_b3 - get_pressure_drop_pa(flow_kg_per_s=mass_flow_init[3], branch_id=4)\n",
    "p_init[0] = p_init[1] + get_pressure_drop_pa(flow_kg_per_s=mass_flow_init[2], branch_id=3)\n",
    "\n",
    "print(\"Initial_flows for pipes [kg/s]:\")\n",
    "for index, q_each in enumerate(mass_flow_init):\n",
    "    print(f\"\\t{index + 1} - {q_each:.2f}\")\n",
    "\n",
    "print(\"Initial pressure for nodes [Pa]:\")\n",
    "for index, p_each in enumerate(p_init):\n",
    "    print(f\"\\t{index + 1} - {p_each:.0f}\")"
   ]
  },
  {
   "cell_type": "markdown",
   "metadata": {},
   "source": [
    "We will define the flow function for a pipe section as well. It has to be solved by a numerical solver to get the exact solution."
   ]
  },
  {
   "cell_type": "code",
   "execution_count": 5,
   "metadata": {},
   "outputs": [],
   "source": [
    "def get_flow_kg_per_s(\n",
    "    pressure_drop_pa: float,\n",
    "    branch_id: int,\n",
    ") -> float:\n",
    "    \"\"\"Calculates flow given the pressure drop for the pipe\"\"\"\n",
    "    def function_to_solve(flow_guess):\n",
    "        return pressure_drop_pa - get_pressure_drop_pa(\n",
    "            flow_kg_per_s=flow_guess,\n",
    "            branch_id=branch_id\n",
    "        )\n",
    "    sol = root_scalar(\n",
    "        f=function_to_solve, \n",
    "        x0=mass_flow_init[branch_id - 1], \n",
    "        x1=mass_flow_init[branch_id - 1] * 0.9\n",
    "    )\n",
    "    return sol.root"
   ]
  },
  {
   "cell_type": "markdown",
   "metadata": {},
   "source": [
    "Then we can define the functions to get the pressure at the node from the guess values for them as given by the system equations."
   ]
  },
  {
   "cell_type": "code",
   "execution_count": 6,
   "metadata": {},
   "outputs": [],
   "source": [
    "def get_mass_flow3(p_n1_init, p_n2_init):\n",
    "    mass_flow1 = get_flow_kg_per_s(pressure_drop_pa=p_b1 - p_n1_init, branch_id=1)\n",
    "    mass_flow2 = get_flow_kg_per_s(pressure_drop_pa=p_b2 - p_n1_init, branch_id=2)\n",
    "    return mass_flow1 + mass_flow2\n",
    "\n",
    "def get_p_n1(p_n1_init, p_n2_init):\n",
    "    return p_n2_init + get_pressure_drop_pa(\n",
    "        flow_kg_per_s=get_mass_flow3(p_n1_init, p_n2_init),\n",
    "        branch_id=3\n",
    "    )\n",
    "\n",
    "def get_p_n2(p_n1_init, p_n2_init):\n",
    "    pressure_drop = p_b4 - p_n2_init\n",
    "    mass_flow5 = get_flow_kg_per_s(pressure_drop_pa=pressure_drop, branch_id=5)\n",
    "    mass_flow4 = mass_flow_fb1_kg_per_s - get_mass_flow3(p_n1_init, p_n2_init) - mass_flow5\n",
    "    return p_b3 - get_pressure_drop_pa(\n",
    "        flow_kg_per_s=mass_flow4,\n",
    "        branch_id=4\n",
    "    )"
   ]
  },
  {
   "cell_type": "markdown",
   "metadata": {},
   "source": [
    "Then, the equation to solve becomes:"
   ]
  },
  {
   "cell_type": "code",
   "execution_count": 7,
   "metadata": {},
   "outputs": [
    {
     "name": "stdout",
     "output_type": "stream",
     "text": [
      "Pressure at nodes [Pa]:\n",
      "\t1 - 174129\n",
      "\t2 - 173626\n",
      "Flow in branches [m3/s]:\n",
      "\t1 - 0.243\n",
      "\t2 - 0.216\n",
      "\t3 - 0.459\n",
      "\t4 - 0.520\n",
      "\t5 - 0.520\n",
      "\t6 - 1.500\n",
      "Back pressure at the flow boundary is 171526.170 Pa.\n"
     ]
    }
   ],
   "source": [
    "def system_equation_to_solve(p_array: np.ndarray) -> np.ndarray:\n",
    "    p_estimate_array = np.array([\n",
    "        get_p_n1(p_array[0], p_array[1]),\n",
    "        get_p_n2(p_array[0], p_array[1])\n",
    "    ])\n",
    "    return p_array - p_estimate_array\n",
    "\n",
    "solution = root(system_equation_to_solve, x0=np.array(p_init), method='hybr')\n",
    "p_sol = solution.x\n",
    "\n",
    "# Calculate all the flows again\n",
    "q_sol = np.zeros(6)\n",
    "q_sol[0] = get_flow_kg_per_s(pressure_drop_pa=p_b1 - p_sol[0], branch_id=1)\n",
    "q_sol[1] = get_flow_kg_per_s(pressure_drop_pa=p_b2 - p_sol[0], branch_id=2)\n",
    "q_sol[2] = q_sol[0] + q_sol[1]\n",
    "q_sol[5] = mass_flow_fb1_kg_per_s\n",
    "q_sol[4] = get_flow_kg_per_s(pressure_drop_pa=p_b4 - p_sol[1], branch_id=5)\n",
    "q_sol[3] = q_sol[5] - q_sol[2] - q_sol[4]\n",
    "q_sol /= water.density\n",
    "\n",
    "# Calculate the pressure at FB1 also\n",
    "p_fb1 = p_sol[1] - get_pressure_drop_pa(flow_kg_per_s=mass_flow_fb1_kg_per_s, branch_id=6)\n",
    "\n",
    "print(\"Pressure at nodes [Pa]:\")\n",
    "for index, p_each in enumerate(p_sol):\n",
    "    print(f\"\\t{index + 1} - {p_each:.0f}\")\n",
    "print(\"Flow in branches [m3/s]:\")\n",
    "for index, q_each in enumerate(q_sol):\n",
    "    print(f\"\\t{index + 1} - {q_each:.3f}\")\n",
    "print(f\"Back pressure at the flow boundary is {p_fb1:.3f} Pa.\")"
   ]
  },
  {
   "cell_type": "code",
   "execution_count": 7,
   "metadata": {},
   "outputs": [],
   "source": []
  }
 ],
 "metadata": {
  "kernelspec": {
   "display_name": "Python 3 (ipykernel)",
   "language": "python",
   "name": "python3"
  },
  "language_info": {
   "codemirror_mode": {
    "name": "ipython",
    "version": 3
   },
   "file_extension": ".py",
   "mimetype": "text/x-python",
   "name": "python",
   "nbconvert_exporter": "python",
   "pygments_lexer": "ipython3",
   "version": "3.9.15"
  }
 },
 "nbformat": 4,
 "nbformat_minor": 4
}
