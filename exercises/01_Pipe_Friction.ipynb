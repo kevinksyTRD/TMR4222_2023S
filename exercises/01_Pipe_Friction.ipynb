{
 "cells": [
  {
   "cell_type": "markdown",
   "source": [
    "# Task 1\n",
    "In a steel tube with a nominal diameter of 10mm (Schedule 40), water (temperature T=15<sup>o</sup> flows with a mean speed of 1.0 m/s.\n",
    "\n",
    "- Will this flow be laminar or turbulent and at what speed will it turn from laminar to turbulent or\n",
    "vice versa?\n",
    "- Will a temperature change of ± 10⁰C change this? NB!  \\\\(\\mu = \\mu(T)\\\\)\n",
    "- Suppose you have a water pipe (temp 15<sup>o</sup>) with a length of 10 m and with a\n",
    "nominal diameter of 10 mm (Schdule 40). How large is the axial force that the pipe friction\n",
    "generates if you have a flow rate of 0.1 m/s, 1  m/s  and 5 m/s?\n",
    "(Hint: Use the energy conservation between fluid power (\\\\(P = pQ\\\\)) and mechanical power (\\\\(P=FV\\\\)))\n",
    "\n",
    "<p style=\"text-align: center\">\n",
    "================= Answer below =================\n",
    "</p>"
   ],
   "metadata": {
    "collapsed": false
   }
  },
  {
   "cell_type": "code",
   "execution_count": 101,
   "outputs": [],
   "source": [
    "# First we import all the necessary packages and modules\n",
    "from fluids import friction, core, fittings\n",
    "from fluids.piping import nearest_pipe\n",
    "from pyfluids import Fluid, FluidsList, Input\n",
    "import numpy as np\n",
    "import plotly.express as px\n",
    "from scipy.optimize import root_scalar\n",
    "from scipy.integrate import solve_ivp\n",
    "import pandas as pd"
   ],
   "metadata": {
    "collapsed": false
   }
  },
  {
   "cell_type": "code",
   "execution_count": null,
   "outputs": [],
   "source": [
    "# Followings are given\n",
    "nom_dia_m = 0.01\n",
    "pipe_sch = \"40\"\n",
    "temperature_deg_c = 15\n",
    "velocity_m_per_s = 1.0\n",
    "\n",
    "# pipe dimensions\n",
    "## Use nearest_pipe function to get the inner diameter of the pipe\n",
    "## Your code here\n",
    "print(f\"Inner diameter of the pipe is {d_inner_m}m\")\n",
    "\n",
    "# Make a function for Reynolds number in temperature and velocity\n",
    "def get_reynolds_number(temperature_deg_c: float, velocity_m_per_s: float) -> float:\n",
    "    # Your code here\n",
    "    return\n",
    "\n",
    "for temp_deg_c in [temperature_deg_c, temperature_deg_c - 10, temperature_deg_c + 10]:\n",
    "    print(f\"\\nWhen the temperature is {temp_deg_c} degC,\")\n",
    "    re = get_reynolds_number(temperature_deg_c=temp_deg_c, velocity_m_per_s=velocity_m_per_s)\n",
    "    print(f\"Re is {re:.0f}\")\n",
    "    print(f\"The flow is therefore {'laminar' if re <= 2300 else 'turbulent'}\")"
   ],
   "metadata": {
    "collapsed": false,
    "pycharm": {
     "is_executing": true
    }
   }
  },
  {
   "cell_type": "markdown",
   "source": [
    "Answer for the third question: Give your explanation of how to get the friction force."
   ],
   "metadata": {
    "collapsed": false
   }
  },
  {
   "cell_type": "code",
   "execution_count": null,
   "outputs": [],
   "source": [
    "# We have the following\n",
    "length_m = 10\n",
    "roughness = # use friction.material_roughness function to get the roughness\n",
    "print(f\"Roughness of the pipe is {roughness}\")\n",
    "# We will make a function for getting the force\n",
    "def get_friction_force(velocity_m_per_s: float) -> float:\n",
    "    \"\"\"Calculates friction force in axial direction\"\"\"\n",
    "    water = # Use Fluid to define water fluid to get density and dynamic viscosity\n",
    "    # Your code here\n",
    "    return friction_force\n",
    "\n",
    "for velocity_m_per_s in [0.1, 1, 5]:\n",
    "    force = get_friction_force(velocity_m_per_s)\n",
    "    print(f\"Friction force at {velocity_m_per_s} m/s: {force:.2f} N\")\n",
    "\n",
    "# Plot the force in velocity\n",
    "velocity_array = np.linspace(0, 10, 101)\n",
    "friction_force = np.array([get_friction_force(velocity) for velocity in velocity_array])\n",
    "fig = px.line(x=velocity_array, y=friction_force)\n",
    "fig.update_xaxes(title=\"Velocity [m/s]\")\n",
    "fig.update_yaxes(title=\"Friction force [N]\")\n",
    "fig.show()"
   ],
   "metadata": {
    "collapsed": false,
    "pycharm": {
     "is_executing": true
    }
   }
  },
  {
   "cell_type": "markdown",
   "source": [
    "# Tasks 2\n",
    "A circular open tank with a diameter of 1 m and flat bottom contains 1 m<sup>3</sup> of water with\n",
    "20<sup>o</sup>C and has a 10 meter long pipeline connected at the bottom of the tank with an\n",
    "outlet 1 meter below the tank outlet. The pipeline has a nominal diameter of 30mm (Sch. 40) and is made of steel.\n",
    "\n",
    "<p style=\"text-align: center\">\n",
    "    <img src=\"img/exercise_1_2_Drain_from_tank.png\" width=400>\n",
    "</p>\n",
    "\n",
    "- Neglect the inlet loss. Find the starting volume flow when the change in depth of water in the tank is negligible.\n",
    "Also, find the function of volume flow as function of the depth of the water in the tank and plot the function for depth 0 to 1.\n",
    "(Hint: Use the energy equation to solve the problem. The equation to solve is implicit. You have to solve it numerically (use `scipy.optimize.root_scalar` function)\n",
    "\n",
    "- Plot the water depth in the tank as a function of time. (Hint: You need to set up the first order ordinary differential equation (ODE) of the water depth. Use `scipy.integrate.solve_ivp` function to solve the ODE numerically.)\n",
    "\n",
    "- An experienced engineer claims that \"you must bring the inlet loss\" - is he right or is the deviation negligible? Note that friction loss from the bend is still negligible.\n",
    "(Hint: Use fittings.entrance_sharp function to calculate the friction loss for the fitting)\n",
    "\n",
    "<p style=\"text-align: center\">\n",
    "================= Answer below =================\n",
    "</p>"
   ],
   "metadata": {
    "collapsed": false
   }
  },
  {
   "cell_type": "code",
   "execution_count": 104,
   "outputs": [],
   "source": [
    "# Followings are given\n",
    "initial_vol_m3 = 1\n",
    "dia_tank_m = 1\n",
    "temp_water_degc = 20\n",
    "length_pipe_m = 10\n",
    "height_outlet_m = 1\n",
    "nom_dia_m = 0.03\n",
    "pipe_sch = \"40\"\n",
    "material_description = \"clean steel pipe\"\n",
    "grav_acc_m_per_s2 = 9.81\n",
    "tank_outlet_height = 1\n",
    "\n",
    "\n",
    "water = # Use Fluid to define the water fluid with the given state\n",
    "_, d_inner_m, _, _ = # Use nearest_pipe to find the inner diameter of the pipe\n",
    "roughness = # Use friction.material_roughness to get the roughness\n",
    "# Your code to calculate necessary variables such as water depth, sectional area, etc\n",
    "\n",
    "def function_to_solve(v_outlet_m_per_s: float) -> float:\n",
    "    \"\"\"Function to solve to find outlet velocity of the pipe outlet\"\"\"\n",
    "    # Your code"
   ],
   "metadata": {
    "collapsed": false
   }
  },
  {
   "cell_type": "markdown",
   "source": [
    "Initial value for the `root_scalar`. Explain how to estimate the initial value"
   ],
   "metadata": {
    "collapsed": false
   }
  },
  {
   "cell_type": "code",
   "execution_count": null,
   "outputs": [],
   "source": [
    "v_init_m_per_s = # Your code here\n",
    "print(f\"The velocity without any friction: {v_init_m_per_s:.2f} m/s\")\n",
    "\n",
    "sol = # Use root_scalar to get the solution\n",
    "print(f\"The velocity with friction: {sol.root:.2f} m/s\")\n",
    "volume_flow_m3_per_h = sol.root * pipe_section_area_m2 * 3600\n",
    "print(f\"The volume flow: {volume_flow_m3_per_h:.2f} m3/h\")"
   ],
   "metadata": {
    "collapsed": false,
    "pycharm": {
     "is_executing": true
    }
   }
  },
  {
   "cell_type": "code",
   "execution_count": null,
   "outputs": [],
   "source": [
    "# For the second part of the question, you need to define a function for the volume flow with parameter of h\n",
    "def get_volume_flow_m3_per_s(water_depth_m: float) -> float:\n",
    "    # Your code here. Hint is to use the numerical method that is used above here in the function.\n",
    "    return volume_flow_m3_per_s\n",
    "\n",
    "water_depth_array = np.linspace(0, initial_water_depth_m, 20)\n",
    "volume_flow_m3_per_h_array = [get_volume_flow_m3_per_s(depth) * 3600 for depth in water_depth_array]\n",
    "fig = px.line(x=water_depth_array, y=volume_flow_m3_per_h_array)\n",
    "fig.update_xaxes(title=\"Water depth [m]\")\n",
    "fig.update_yaxes(title=\"Volume flow [m3/h]\")\n",
    "fig.show()"
   ],
   "metadata": {
    "collapsed": false,
    "pycharm": {
     "is_executing": true
    }
   }
  },
  {
   "cell_type": "markdown",
   "source": [
    "Answer for the next question. Write the ordinary differential equation here."
   ],
   "metadata": {
    "collapsed": false
   }
  },
  {
   "cell_type": "code",
   "execution_count": null,
   "outputs": [],
   "source": [
    "def ode_func_to_solve(time, water_depth_m: float) -> float:\n",
    "    \"\"\"ODE function for water depth\"\"\"\n",
    "    # Your code to calculate derivative of h\n",
    "    return derivative_h\n",
    "\n",
    "# We will first run the integration until 10 seconds to see when the trend.\n",
    "t_eval = np.linspace(0, 750, 76)\n",
    "sol = # Use solve_ivp function to solve the ODE\n",
    "fig = px.line(x=sol.t, y=sol.y.flatten())\n",
    "fig.update_xaxes(title=\"time [s]\")\n",
    "fig.update_yaxes(title=\"water depth [m]\")\n",
    "fig.show()"
   ],
   "metadata": {
    "collapsed": false,
    "pycharm": {
     "is_executing": true
    }
   }
  },
  {
   "cell_type": "markdown",
   "source": [
    "Now we will consider the solution with friction loss from the entrance."
   ],
   "metadata": {
    "collapsed": false
   }
  },
  {
   "cell_type": "code",
   "execution_count": null,
   "outputs": [],
   "source": [
    "# Redefining the flow function in h with the friction loss from the fitting\n",
    "def get_volume_flow_m3_per_s(water_depth_m: float) -> float:\n",
    "    # Your code here\n",
    "    return volume_flow_m3_per_s\n",
    "\n",
    "def ode_func_to_solve(time, water_depth_m: float) -> float:\n",
    "    \"\"\"ODE function for water depth\"\"\"\n",
    "    # Your code here\n",
    "    return derivative_h\n",
    "\n",
    "# We will first run the integration until 10 seconds to see when the trend.\n",
    "t_resolution = np.linspace(0, 750, 76)\n",
    "sol_with_fitting_friction = # Use solve_ivp to solve the ODE\n",
    "df_sol = pd.DataFrame(index=t_resolution)\n",
    "df_sol[\"Without entrance friction\"] = sol.y.flatten()\n",
    "df_sol[\"With entrance friction\"] = sol_with_fitting_friction.y.flatten()\n",
    "fig = px.line(data_frame=df_sol)\n",
    "fig.update_xaxes(title=\"time [s]\")\n",
    "fig.update_yaxes(title=\"water depth [m]\")\n",
    "fig.show()"
   ],
   "metadata": {
    "collapsed": false,
    "pycharm": {
     "is_executing": true
    }
   }
  },
  {
   "cell_type": "markdown",
   "source": [
    "Provide a comment for the comparison."
   ],
   "metadata": {
    "collapsed": false
   }
  }
 ],
 "metadata": {
  "kernelspec": {
   "display_name": "Python 3",
   "language": "python",
   "name": "python3"
  },
  "language_info": {
   "codemirror_mode": {
    "name": "ipython",
    "version": 2
   },
   "file_extension": ".py",
   "mimetype": "text/x-python",
   "name": "python",
   "nbconvert_exporter": "python",
   "pygments_lexer": "ipython2",
   "version": "2.7.6"
  }
 },
 "nbformat": 4,
 "nbformat_minor": 0
}
