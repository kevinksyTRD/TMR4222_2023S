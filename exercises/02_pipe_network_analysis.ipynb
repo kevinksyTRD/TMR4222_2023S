{
 "cells": [
  {
   "cell_type": "markdown",
   "source": [
    "# Pipe Network Analysis\n",
    "In the pipe network below, the water at 20<sup>o</sup> is following into each manifold at 3000m<sup>3</sup>/h. Each open end of the pipes is connected to a bottom of the tank. The depth of the water in each tank is 15m. Calculate flow in each section of the pipe and calculate the back pressure at the manifolds.\n",
    "\n",
    "<p style=\"text-align: center\">\n",
    "    <img src=\"img/Exercise2_Pipe_Network.jpg\" width=600>\n",
    "</p>\n",
    "\n",
    "The following information is given for each section of the pipe network. For friction from fittings, an accumulated number of friction coefficient, K, is given for each section. The pipe is clean steel pipe of schedule 40. The height of all the connections including the manifolds and the tank connection is identical.\n"
   ],
   "metadata": {
    "collapsed": false
   }
  },
  {
   "cell_type": "markdown",
   "source": [
    "|   id | Nominal Dia.[mm] | Length[m] | K - fitting |\n",
    "|-----:|-----------------:|----------:|------------:|\n",
    "|    1 |              350 |      38.0 |           0 |\n",
    "|    2 |              350 |      27.0 |         8.0 |\n",
    "|    3 |              450 |      15.0 |         4.0 |\n",
    "|    4 |              600 |       5.0 |         7.0 |\n",
    "|    5 |              350 |      10.0 |        15.0 |\n",
    "|    6 |              350 |      10.0 |        15.0 |\n",
    "|    7 |              450 |      24.0 |         6.0 |\n",
    "|    8 |              350 |      27.0 |         9.0 |\n",
    "|    9 |              350 |      35.0 |        13.0 |\n"
   ],
   "metadata": {
    "collapsed": false
   }
  },
  {
   "cell_type": "markdown",
   "source": [
    "<p style=\"text-align: center\">\n",
    "============== Answer ================\n",
    "</p>\n",
    "\n",
    "First create a network model and assign the causality to the system.\n",
    "\n",
    "<p style=\"text-align: center\">\n",
    "    <img src=\"causality.png\" alt=\"Insert the image for the network model and causality\">\n",
    "</p>\n",
    "\n",
    "Write the equations for the system based on the causality.\n"
   ],
   "metadata": {
    "collapsed": false
   }
  },
  {
   "cell_type": "markdown",
   "source": [
    "Let's define a class for a pipe to calculate the pressure drop. You can use this class to calculate the flow from pressure drop or vice versa. Have a look at the class and learn how to use it."
   ],
   "metadata": {
    "collapsed": false
   }
  },
  {
   "cell_type": "code",
   "execution_count": 8,
   "outputs": [],
   "source": [
    "# First we import all the necessary packages and modules\n",
    "from fluids import friction, core\n",
    "from fluids.piping import nearest_pipe\n",
    "from pyfluids import Fluid, FluidsList, Input\n",
    "import numpy as np\n",
    "from scipy.optimize import root_scalar, root\n",
    "import pandas as pd"
   ],
   "metadata": {
    "collapsed": false
   }
  },
  {
   "cell_type": "code",
   "execution_count": 3,
   "outputs": [],
   "source": [
    "class Branch:\n",
    "    \"\"\"This is a class for a pipe to calculate pressure drop when flow is given or vice versa\n",
    "\n",
    "    Usage:\n",
    "        branch = Branch(\n",
    "            nominal_dia_m=0.03,\n",
    "            length_m=4,\n",
    "            schedule=\"40\",\n",
    "            k_fitting=3.2,\n",
    "            material=\"clean steel pipe\"\n",
    "        )\n",
    "        velocity_m_per_s = branch.get_velocity_m_per_s(volume_flow_m3_per_s=1)\n",
    "        fluid = Fluid(FluidsList.Water).with_state(Input.pressure(1e5), Input.temperature(20))\n",
    "        reynolds_number = branch.get_reynolds_number(volume_flow_m3_per_s=1, fluid=fluid)\n",
    "        pressure_drop = branch.get_pressure_drop_pa(volume_flow_m3_per_s=1, fluid=fluid)\n",
    "        volume_flow_m3_per_s = branch.get_volume_flow_m3_per_s(pressure_drop_pa=10000, fluid=fluid)\n",
    "    \"\"\"\n",
    "\n",
    "    def __init__(\n",
    "        self,\n",
    "        nominal_dia_m: float,\n",
    "        length_m: float,\n",
    "        schedule: str,\n",
    "        k_fitting: float,\n",
    "        material: str = \"clean steel pipe\"\n",
    "    ):\n",
    "        \"\"\"This is a constructor. The function is called when you create the class object.\n",
    "\n",
    "        The arguments should be passed when you create the object\n",
    "        \"\"\"\n",
    "        self.nominal_diameter_m = nominal_dia_m\n",
    "        self.length_m = length_m\n",
    "        self.schedule = schedule\n",
    "        self.material = material\n",
    "        self.k_fitting = k_fitting\n",
    "        _, self.inner_dia_m, _, _ = nearest_pipe(Di=self.nominal_diameter_m, schedule=self.schedule)\n",
    "        self.roughness = friction.material_roughness(self.material)\n",
    "\n",
    "    def get_section_area_m2(self):\n",
    "        \"\"\"Returns area of the pipe section\"\"\"\n",
    "        return self.inner_dia_m**2 * np.pi / 4\n",
    "\n",
    "    def get_velocity_m_per_s(self, vol_flow_m3_per_s: float) -> float:\n",
    "        \"\"\"Returns velocity given the volume flow\"\"\"\n",
    "        return vol_flow_m3_per_s / self.get_section_area_m2()\n",
    "\n",
    "    def get_reynolds_number(self, vol_flow_m3_per_s: float, fluid: Fluid) -> float:\n",
    "        \"\"\"Returns Reynolds number given the volume flow and fluid object\"\"\"\n",
    "        return fluid.density * vol_flow_m3_per_s * self.inner_dia_m / fluid.dynamic_viscosity\n",
    "\n",
    "    def get_pressure_drop_pa(self, vol_flow_m3_per_s: float, fluid: Fluid) -> float:\n",
    "        \"\"\"Returns pressure drop given the volume flow and fluid object\n",
    "\n",
    "        :param vol_flow_m3_per_s: (float) Volume flow in m3/s\n",
    "        :param fluid: (Fluid) Fluid object\n",
    "        :param K: (float) friction coefficient. Default value is 0 if not given.\n",
    "        \"\"\"\n",
    "        pipe_friction = friction.one_phase_dP(\n",
    "            m=vol_flow_m3_per_s * fluid.density,\n",
    "            rho=fluid.density,\n",
    "            mu=fluid.dynamic_viscosity,\n",
    "            D=self.inner_dia_m,\n",
    "            roughness=self.roughness,\n",
    "            L=self.length_m\n",
    "        )\n",
    "        fitting_friction = core.dP_from_K(\n",
    "            K=self.k_fitting,\n",
    "            rho=fluid.density,\n",
    "            V=self.get_velocity_m_per_s(vol_flow_m3_per_s)\n",
    "        )\n",
    "        return pipe_friction + fitting_friction\n",
    "\n",
    "    def get_vol_flow_m3_per_s(\n",
    "            self, pressure_drop_pa: float, fluid: Fluid, initial_vol_flow_m3_per_s: float = None\n",
    "    ) -> float:\n",
    "        \"\"\"Returns the volume flow given the pressure drop and fluid object\n",
    "\n",
    "        The flow is solved using root_scalar solver.\n",
    "        \"\"\"\n",
    "        if initial_vol_flow_m3_per_s is None:\n",
    "            initial_velocity = 10000 * fluid.dynamic_viscosity / (fluid.density * self.inner_dia_m)\n",
    "            initial_vol_flow_m3_per_s = initial_velocity * self.get_section_area_m2()\n",
    "\n",
    "        def function_to_solve(vol_flow_m3_per_s: float) -> float:\n",
    "            \"\"\"Function to solve using the solver\"\"\"\n",
    "            return pressure_drop_pa - self.get_pressure_drop_pa(\n",
    "                vol_flow_m3_per_s=vol_flow_m3_per_s, fluid=fluid\n",
    "            )\n",
    "\n",
    "        sol = root_scalar(f=function_to_solve, x0=initial_velocity, x1=initial_velocity*0.95)\n",
    "        if not sol.converged:\n",
    "            raise ValueError(\"The solution didn't converge\")\n",
    "        return sol.root"
   ],
   "metadata": {
    "collapsed": false
   }
  },
  {
   "cell_type": "markdown",
   "source": [
    "(Hint) Use the class above to model the branch in the network model. Have a look at the example in the code to use the methods properly.\n",
    "\n",
    "```python\n",
    "branch = Branch(\n",
    "    nominal_dia_m=0.35,\n",
    "    length_m=25,\n",
    "    schedule=\"40\",\n",
    "    k_fitting=12,\n",
    "    material=\"clean steel pipe\"\n",
    ")\n",
    "```"
   ],
   "metadata": {
    "collapsed": false
   }
  },
  {
   "cell_type": "code",
   "execution_count": null,
   "outputs": [],
   "source": [
    "schedule = \"40\"\n",
    "# Create branch models using the class\n"
   ],
   "metadata": {
    "collapsed": false,
    "pycharm": {
     "is_executing": true
    }
   }
  },
  {
   "cell_type": "markdown",
   "source": [
    "Define a function to solve from the system equation written above."
   ],
   "metadata": {
    "collapsed": false
   }
  },
  {
   "cell_type": "code",
   "execution_count": 34,
   "outputs": [],
   "source": [
    "# Boundary conditions\n",
    "# define variables to be used for boundary condition\n",
    "# define the fluid to be used in the calculation using Fluid\n",
    "\n",
    "# define the function to solve. (Hint: as we have multiple pressure nodes in the system, the function should take a vector argument and return the error as a vector\n",
    "def function_to_solve(p_node_array):\n",
    "    \"\"\"Function to solve for the system\"\"\"\n",
    "    # Your code here\n",
    "    # Return the error vector\n",
    "    err_array = p_node_array - p_node_array_calculated\n",
    "    return err_array"
   ],
   "metadata": {
    "collapsed": false
   }
  },
  {
   "cell_type": "code",
   "execution_count": null,
   "outputs": [],
   "source": [
    "# The solver for the equation requires the initial value. Calculate the initial values for the pressure at the nodes. (Hint: Assume flows at each pipe and calculate the pressure based on the equations. Use your common sense for guessing the initial values)\n",
    "# your code here for q_branches_initial and p_nodes_initial\n",
    "# q_branches_initial and p_nodes_initial are numpy arrays\n",
    "\n",
    "print(f\"Initial volume flow [m3/h]:\")\n",
    "for q_init_each in q_branches_initial:\n",
    "    print(f\"{q_init_each * 3600:.0f}\")\n",
    "print(f\"\\nInitial pressure at nodes [Pa]:\")\n",
    "for p_init_each in p_nodes_initial:\n",
    "    print(f\"{p_init_each:.0f}\")"
   ],
   "metadata": {
    "collapsed": false,
    "pycharm": {
     "is_executing": true
    }
   }
  },
  {
   "cell_type": "code",
   "execution_count": 36,
   "outputs": [],
   "source": [
    "sol = root(fun=function_to_solve, x0=p_nodes_initial)\n",
    "p_nodes = sol.x"
   ],
   "metadata": {
    "collapsed": false
   }
  },
  {
   "cell_type": "code",
   "execution_count": 37,
   "outputs": [
    {
     "name": "stdout",
     "output_type": "stream",
     "text": [
      "The pressure at nodes [Pa]:\n",
      "\t233296\n",
      "\t289499\n",
      "\t333136\n",
      "\t222996\n"
     ]
    }
   ],
   "source": [
    "print(f\"The pressure at nodes [Pa]:\")\n",
    "for p_node in p_nodes:\n",
    "    print(f\"\\t{p_node:.0f}\")"
   ],
   "metadata": {
    "collapsed": false
   }
  },
  {
   "cell_type": "code",
   "execution_count": 38,
   "outputs": [
    {
     "name": "stdout",
     "output_type": "stream",
     "text": [
      "   nominal_dia_m  length_m     K  vol flow [m3/h]\n",
      "1           0.35      38.0  11.0      1464.199876\n",
      "2           0.35      27.0   8.0      1720.298138\n",
      "3           0.45      15.0   4.0      3184.498014\n",
      "4           0.60       5.0   7.0      6000.000000\n",
      "5           0.35      10.0  15.0      3000.000000\n",
      "6           0.35      10.0  15.0      3000.000000\n",
      "7           0.45      24.0   6.0      2815.501986\n",
      "8           0.35      27.0   9.0      1531.721049\n",
      "9           0.35      35.0  13.0      1283.780936\n"
     ]
    }
   ],
   "source": [
    "# Calculate the volume flow based on the pressure we acquired\n",
    "# Your code for calculating q1, q2, ..., q9\n",
    "vol_flow_m3_per_h_for_branches = np.array([q1, q2, q3, q4, q_fb1, q_fb2, q7, q8, q9]) * 3600\n",
    "df_pipe_table = pd.DataFrame()\n",
    "df_pipe_table[\"vol flow [m3/h]\"] = vol_flow_m3_per_h_for_branches\n",
    "df_pipe_table.index = [index + 1 for index in range(9)]\n",
    "print(df_pipe_table)"
   ],
   "metadata": {
    "collapsed": false
   }
  },
  {
   "cell_type": "code",
   "execution_count": 39,
   "outputs": [
    {
     "name": "stdout",
     "output_type": "stream",
     "text": [
      "Back pressure at the flow boundaries are [Pa]:\n",
      "\tFB1: 747880\n",
      "\tFB2: 747880\n"
     ]
    }
   ],
   "source": [
    "# Calculate the backpressre at the manifolds\n",
    "p_fb2 = # Your code here\n",
    "p_fb1 = # Your code here\n",
    "\n",
    "print(\"Back pressure at the flow boundaries are [Pa]:\")\n",
    "print(f\"\\tFB1: {p_fb1:.0f}\")\n",
    "print(f\"\\tFB2: {p_fb2:.0f}\")"
   ],
   "metadata": {
    "collapsed": false
   }
  },
  {
   "cell_type": "code",
   "execution_count": null,
   "outputs": [],
   "source": [],
   "metadata": {
    "collapsed": false
   }
  }
 ],
 "metadata": {
  "kernelspec": {
   "display_name": "Python 3",
   "language": "python",
   "name": "python3"
  },
  "language_info": {
   "codemirror_mode": {
    "name": "ipython",
    "version": 2
   },
   "file_extension": ".py",
   "mimetype": "text/x-python",
   "name": "python",
   "nbconvert_exporter": "python",
   "pygments_lexer": "ipython2",
   "version": "2.7.6"
  }
 },
 "nbformat": 4,
 "nbformat_minor": 0
}
