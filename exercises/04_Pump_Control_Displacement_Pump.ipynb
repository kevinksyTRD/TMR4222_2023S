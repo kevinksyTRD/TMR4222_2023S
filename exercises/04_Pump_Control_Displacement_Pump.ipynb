{
 "cells": [
  {
   "cell_type": "markdown",
   "source": [
    "# Exercise 4 Pump Control and Displacement Pump"
   ],
   "metadata": {
    "collapsed": false
   }
  },
  {
   "cell_type": "markdown",
   "source": [
    "## Task 1\n",
    "\n",
    "The pump performance curve is given as below at the speed of 3000 RPM. The pump speed is controlled."
   ],
   "metadata": {
    "collapsed": false
   }
  },
  {
   "cell_type": "code",
   "execution_count": 7,
   "outputs": [],
   "source": [
    "# First import all the packages\n",
    "import os\n",
    "\n",
    "import pandas as pd\n",
    "from fluids import friction, core, fittings\n",
    "from fluids.piping import nearest_pipe\n",
    "from pyfluids import Fluid, FluidsList, Input\n",
    "import numpy as np\n",
    "from scipy.optimize import root_scalar\n",
    "from scipy.interpolate import interp1d\n",
    "from plotly.subplots import make_subplots\n",
    "import plotly.graph_objects as go\n",
    "\n",
    "pd.options.plotting.backend = \"plotly\""
   ],
   "metadata": {
    "collapsed": false
   }
  },
  {
   "cell_type": "code",
   "execution_count": 8,
   "outputs": [
    {
     "data": {
      "image/svg+xml": "<svg class=\"main-svg\" xmlns=\"http://www.w3.org/2000/svg\" xmlns:xlink=\"http://www.w3.org/1999/xlink\" width=\"700\" height=\"500\" style=\"\" viewBox=\"0 0 700 500\"><rect x=\"0\" y=\"0\" width=\"700\" height=\"500\" style=\"fill: rgb(17, 17, 17); fill-opacity: 1;\"/><defs id=\"defs-5b0c16\"><g class=\"clips\"><clipPath id=\"clip5b0c16xyplot\" class=\"plotclip\"><rect width=\"408\" height=\"360\"/></clipPath><clipPath class=\"axesclip\" id=\"clip5b0c16x\"><rect x=\"80\" y=\"0\" width=\"408\" height=\"500\"/></clipPath><clipPath class=\"axesclip\" id=\"clip5b0c16y\"><rect x=\"0\" y=\"60\" width=\"700\" height=\"360\"/></clipPath><clipPath class=\"axesclip\" id=\"clip5b0c16xy\"><rect x=\"80\" y=\"60\" width=\"408\" height=\"360\"/></clipPath></g><g class=\"gradients\"/><g class=\"patterns\"/></defs><g class=\"bglayer\"/><g class=\"layer-below\"><g class=\"imagelayer\"/><g class=\"shapelayer\"/></g><g class=\"cartesianlayer\"><g class=\"subplot xy\"><g class=\"layer-subplot\"><g class=\"shapelayer\"/><g class=\"imagelayer\"/></g><g class=\"minor-gridlayer\"><g class=\"x\"/><g class=\"y\"/></g><g class=\"gridlayer\"><g class=\"x\"><path class=\"xgrid crisp\" transform=\"translate(148,0)\" d=\"M0,60v360\" style=\"stroke: rgb(40, 52, 66); stroke-opacity: 1; stroke-width: 1px;\"/><path class=\"xgrid crisp\" transform=\"translate(216,0)\" d=\"M0,60v360\" style=\"stroke: rgb(40, 52, 66); stroke-opacity: 1; stroke-width: 1px;\"/><path class=\"xgrid crisp\" transform=\"translate(284,0)\" d=\"M0,60v360\" style=\"stroke: rgb(40, 52, 66); stroke-opacity: 1; stroke-width: 1px;\"/><path class=\"xgrid crisp\" transform=\"translate(352,0)\" d=\"M0,60v360\" style=\"stroke: rgb(40, 52, 66); stroke-opacity: 1; stroke-width: 1px;\"/><path class=\"xgrid crisp\" transform=\"translate(420,0)\" d=\"M0,60v360\" style=\"stroke: rgb(40, 52, 66); stroke-opacity: 1; stroke-width: 1px;\"/></g><g class=\"y\"><path class=\"ygrid crisp\" transform=\"translate(0,361.51)\" d=\"M80,0h408\" style=\"stroke: rgb(40, 52, 66); stroke-opacity: 1; stroke-width: 1px;\"/><path class=\"ygrid crisp\" transform=\"translate(0,321.01)\" d=\"M80,0h408\" style=\"stroke: rgb(40, 52, 66); stroke-opacity: 1; stroke-width: 1px;\"/><path class=\"ygrid crisp\" transform=\"translate(0,280.52)\" d=\"M80,0h408\" style=\"stroke: rgb(40, 52, 66); stroke-opacity: 1; stroke-width: 1px;\"/><path class=\"ygrid crisp\" transform=\"translate(0,240.03)\" d=\"M80,0h408\" style=\"stroke: rgb(40, 52, 66); stroke-opacity: 1; stroke-width: 1px;\"/><path class=\"ygrid crisp\" transform=\"translate(0,199.53)\" d=\"M80,0h408\" style=\"stroke: rgb(40, 52, 66); stroke-opacity: 1; stroke-width: 1px;\"/><path class=\"ygrid crisp\" transform=\"translate(0,159.04000000000002)\" d=\"M80,0h408\" style=\"stroke: rgb(40, 52, 66); stroke-opacity: 1; stroke-width: 1px;\"/><path class=\"ygrid crisp\" transform=\"translate(0,118.55)\" d=\"M80,0h408\" style=\"stroke: rgb(40, 52, 66); stroke-opacity: 1; stroke-width: 1px;\"/><path class=\"ygrid crisp\" transform=\"translate(0,78.05)\" d=\"M80,0h408\" style=\"stroke: rgb(40, 52, 66); stroke-opacity: 1; stroke-width: 1px;\"/></g></g><g class=\"zerolinelayer\"><path class=\"xzl zl crisp\" transform=\"translate(80,0)\" d=\"M0,60v360\" style=\"stroke: rgb(40, 52, 66); stroke-opacity: 1; stroke-width: 2px;\"/><path class=\"yzl zl crisp\" transform=\"translate(0,402)\" d=\"M80,0h408\" style=\"stroke: rgb(40, 52, 66); stroke-opacity: 1; stroke-width: 2px;\"/></g><path class=\"xlines-below\"/><path class=\"ylines-below\"/><g class=\"overlines-below\"/><g class=\"xaxislayer-below\"/><g class=\"yaxislayer-below\"/><g class=\"overaxes-below\"/><g class=\"plot\" transform=\"translate(80,60)\" clip-path=\"url(#clip5b0c16xyplot)\"><g class=\"scatterlayer mlayer\"><g class=\"trace scatter trace7ade12\" style=\"stroke-miterlimit: 2; opacity: 1;\"><g class=\"fills\"/><g class=\"errorbars\"/><g class=\"lines\"><path class=\"js-line\" d=\"M0,18.05L34,18.86L67.97,22.1L101.93,26.96L135.86,32.63L169.8,42.35L204.24,56.12L238.07,73.93L272.44,95.8L306.14,129.82L340.31,176.79L373.76,242.39L408,342\" style=\"vector-effect: non-scaling-stroke; fill: none; stroke: rgb(99, 110, 250); stroke-opacity: 1; stroke-width: 2px; opacity: 1;\"/></g><g class=\"points\"/><g class=\"text\"/></g><g class=\"trace scatter trace9cfbb0\" style=\"stroke-miterlimit: 2; opacity: 1;\"><g class=\"fills\"/><g class=\"errorbars\"/><g class=\"lines\"><path class=\"js-line\" d=\"M0,18.05L23.8,18.35L27.2,18.49L54.4,20.55L57.8,20.91L91.8,25.46L95.2,25.97L136,32.66L139.4,33.43L159.8,39.07L163.2,40.15L187,48.67L190.4,50.04L210.8,59.31L214.2,61.03L244.8,77.69L248.2,79.62L265.2,90.35L268.6,92.83L278.8,101.18L282.2,104.28L295.8,118.06L299.2,121.82L316.2,142.19L319.6,146.6L333.2,165.72L336.6,170.92L350.2,193.66L353.6,199.89L367.2,227.44L370.6,235.04L380.8,259.76L384.2,268.68L394.4,297.67L397.8,308.12L408,342\" style=\"vector-effect: non-scaling-stroke; fill: none; stroke: rgb(239, 85, 59); stroke-opacity: 1; stroke-width: 2px; opacity: 1;\"/></g><g class=\"points\"/><g class=\"text\"/></g></g></g><g class=\"overplot\"/><path class=\"xlines-above crisp\" d=\"M0,0\" style=\"fill: none;\"/><path class=\"ylines-above crisp\" d=\"M0,0\" style=\"fill: none;\"/><g class=\"overlines-above\"/><g class=\"xaxislayer-above\"><g class=\"xtick\"><text text-anchor=\"middle\" x=\"0\" y=\"433\" transform=\"translate(80,0)\" style=\"font-family: 'Open Sans', verdana, arial, sans-serif; font-size: 12px; fill: rgb(242, 245, 250); fill-opacity: 1; white-space: pre; opacity: 1;\">0</text></g><g class=\"xtick\"><text text-anchor=\"middle\" x=\"0\" y=\"433\" style=\"font-family: 'Open Sans', verdana, arial, sans-serif; font-size: 12px; fill: rgb(242, 245, 250); fill-opacity: 1; white-space: pre; opacity: 1;\" transform=\"translate(148,0)\">200</text></g><g class=\"xtick\"><text text-anchor=\"middle\" x=\"0\" y=\"433\" style=\"font-family: 'Open Sans', verdana, arial, sans-serif; font-size: 12px; fill: rgb(242, 245, 250); fill-opacity: 1; white-space: pre; opacity: 1;\" transform=\"translate(216,0)\">400</text></g><g class=\"xtick\"><text text-anchor=\"middle\" x=\"0\" y=\"433\" style=\"font-family: 'Open Sans', verdana, arial, sans-serif; font-size: 12px; fill: rgb(242, 245, 250); fill-opacity: 1; white-space: pre; opacity: 1;\" transform=\"translate(284,0)\">600</text></g><g class=\"xtick\"><text text-anchor=\"middle\" x=\"0\" y=\"433\" style=\"font-family: 'Open Sans', verdana, arial, sans-serif; font-size: 12px; fill: rgb(242, 245, 250); fill-opacity: 1; white-space: pre; opacity: 1;\" transform=\"translate(352,0)\">800</text></g><g class=\"xtick\"><text text-anchor=\"middle\" x=\"0\" y=\"433\" style=\"font-family: 'Open Sans', verdana, arial, sans-serif; font-size: 12px; fill: rgb(242, 245, 250); fill-opacity: 1; white-space: pre; opacity: 1;\" transform=\"translate(420,0)\">1000</text></g><g class=\"xtick\"><text text-anchor=\"middle\" x=\"0\" y=\"433\" style=\"font-family: 'Open Sans', verdana, arial, sans-serif; font-size: 12px; fill: rgb(242, 245, 250); fill-opacity: 1; white-space: pre; opacity: 1;\" transform=\"translate(488,0)\">1200</text></g></g><g class=\"yaxislayer-above\"><g class=\"ytick\"><text text-anchor=\"end\" x=\"79\" y=\"4.199999999999999\" transform=\"translate(0,402)\" style=\"font-family: 'Open Sans', verdana, arial, sans-serif; font-size: 12px; fill: rgb(242, 245, 250); fill-opacity: 1; white-space: pre; opacity: 1;\">0</text></g><g class=\"ytick\"><text text-anchor=\"end\" x=\"79\" y=\"4.199999999999999\" style=\"font-family: 'Open Sans', verdana, arial, sans-serif; font-size: 12px; fill: rgb(242, 245, 250); fill-opacity: 1; white-space: pre; opacity: 1;\" transform=\"translate(0,361.51)\">5</text></g><g class=\"ytick\"><text text-anchor=\"end\" x=\"79\" y=\"4.199999999999999\" style=\"font-family: 'Open Sans', verdana, arial, sans-serif; font-size: 12px; fill: rgb(242, 245, 250); fill-opacity: 1; white-space: pre; opacity: 1;\" transform=\"translate(0,321.01)\">10</text></g><g class=\"ytick\"><text text-anchor=\"end\" x=\"79\" y=\"4.199999999999999\" style=\"font-family: 'Open Sans', verdana, arial, sans-serif; font-size: 12px; fill: rgb(242, 245, 250); fill-opacity: 1; white-space: pre; opacity: 1;\" transform=\"translate(0,280.52)\">15</text></g><g class=\"ytick\"><text text-anchor=\"end\" x=\"79\" y=\"4.199999999999999\" style=\"font-family: 'Open Sans', verdana, arial, sans-serif; font-size: 12px; fill: rgb(242, 245, 250); fill-opacity: 1; white-space: pre; opacity: 1;\" transform=\"translate(0,240.03)\">20</text></g><g class=\"ytick\"><text text-anchor=\"end\" x=\"79\" y=\"4.199999999999999\" style=\"font-family: 'Open Sans', verdana, arial, sans-serif; font-size: 12px; fill: rgb(242, 245, 250); fill-opacity: 1; white-space: pre; opacity: 1;\" transform=\"translate(0,199.53)\">25</text></g><g class=\"ytick\"><text text-anchor=\"end\" x=\"79\" y=\"4.199999999999999\" style=\"font-family: 'Open Sans', verdana, arial, sans-serif; font-size: 12px; fill: rgb(242, 245, 250); fill-opacity: 1; white-space: pre; opacity: 1;\" transform=\"translate(0,159.04000000000002)\">30</text></g><g class=\"ytick\"><text text-anchor=\"end\" x=\"79\" y=\"4.199999999999999\" style=\"font-family: 'Open Sans', verdana, arial, sans-serif; font-size: 12px; fill: rgb(242, 245, 250); fill-opacity: 1; white-space: pre; opacity: 1;\" transform=\"translate(0,118.55)\">35</text></g><g class=\"ytick\"><text text-anchor=\"end\" x=\"79\" y=\"4.199999999999999\" style=\"font-family: 'Open Sans', verdana, arial, sans-serif; font-size: 12px; fill: rgb(242, 245, 250); fill-opacity: 1; white-space: pre; opacity: 1;\" transform=\"translate(0,78.05)\">40</text></g></g><g class=\"overaxes-above\"/></g></g><g class=\"polarlayer\"/><g class=\"smithlayer\"/><g class=\"ternarylayer\"/><g class=\"geolayer\"/><g class=\"funnelarealayer\"/><g class=\"pielayer\"/><g class=\"iciclelayer\"/><g class=\"treemaplayer\"/><g class=\"sunburstlayer\"/><g class=\"glimages\"/><defs id=\"topdefs-5b0c16\"><g class=\"clips\"/><clipPath id=\"legend5b0c16\"><rect width=\"192\" height=\"29\" x=\"0\" y=\"0\"/></clipPath></defs><g class=\"layer-above\"><g class=\"imagelayer\"/><g class=\"shapelayer\"/></g><g class=\"infolayer\"><g class=\"legend\" pointer-events=\"all\" transform=\"translate(496.16,60)\"><rect class=\"bg\" shape-rendering=\"crispEdges\" style=\"stroke: rgb(68, 68, 68); stroke-opacity: 1; fill: rgb(17, 17, 17); fill-opacity: 1; stroke-width: 0px;\" width=\"192\" height=\"29\" x=\"0\" y=\"0\"/><g class=\"scrollbox\" transform=\"\" clip-path=\"url(#legend5b0c16)\"><g class=\"groups\"><g class=\"traces\" transform=\"translate(0,14.5)\" style=\"opacity: 1;\"><text class=\"legendtext\" text-anchor=\"start\" x=\"40\" y=\"4.680000000000001\" style=\"font-family: 'Open Sans', verdana, arial, sans-serif; font-size: 12px; fill: rgb(242, 245, 250); fill-opacity: 1; white-space: pre;\">Interpolated @3000RPM</text><g class=\"layers\" style=\"opacity: 1;\"><g class=\"legendfill\"/><g class=\"legendlines\"><path class=\"js-line\" d=\"M5,0h30\" style=\"fill: none; stroke: rgb(239, 85, 59); stroke-opacity: 1; stroke-width: 2px;\"/></g><g class=\"legendsymbols\"><g class=\"legendpoints\"/></g></g><rect class=\"legendtoggle\" x=\"0\" y=\"-9.5\" width=\"186.6875\" height=\"19\" style=\"fill: rgb(0, 0, 0); fill-opacity: 0;\"/></g></g></g><rect class=\"scrollbar\" rx=\"20\" ry=\"3\" width=\"0\" height=\"0\" style=\"fill: rgb(128, 139, 164); fill-opacity: 1;\" x=\"0\" y=\"0\"/></g><g class=\"g-gtitle\"/><g class=\"g-xtitle\"><text class=\"xtitle\" x=\"284\" y=\"460.8\" text-anchor=\"middle\" style=\"font-family: 'Open Sans', verdana, arial, sans-serif; font-size: 14px; fill: rgb(242, 245, 250); opacity: 1; font-weight: normal; white-space: pre;\">Flow</text></g><g class=\"g-ytitle\"><text class=\"ytitle\" transform=\"rotate(-90,38.934375,240)\" x=\"38.934375\" y=\"240\" text-anchor=\"middle\" style=\"font-family: 'Open Sans', verdana, arial, sans-serif; font-size: 14px; fill: rgb(242, 245, 250); opacity: 1; font-weight: normal; white-space: pre;\">Head</text></g></g></svg>"
     },
     "metadata": {},
     "output_type": "display_data"
    }
   ],
   "source": [
    "# Load pump curve\n",
    "# In this example, we load the pump data from a file. The loaded data is\n",
    "# stored in df which is DataFrame type. DataFrame is like your table in the excel.\n",
    "# You can see the data by\n",
    "# 'print(df)'\n",
    "# and access flow data by `df.Flow` and head data by df.Head.\n",
    "\n",
    "path = os.path.join(\"data\", \"Exercise_3_1_pump_perf_curve.csv\")\n",
    "df = pd.read_csv(path)\n",
    "fig = df.plot(x=\"Flow\", y=\"Head\")\n",
    "\n",
    "# Get interpolation curve\n",
    "interp_func = interp1d(x=df.Flow, y=df.Head, kind=\"cubic\")\n",
    "vol_flow_m3_per_h_array = np.linspace(0, 1200, 121)\n",
    "\n",
    "def get_pump_head_at3000rpm_m(vol_m3_per_h) -> float:\n",
    "    \"\"\"Returns pump head for the given vol flow at 3000 RPM\"\"\"\n",
    "    return interp_func(vol_m3_per_h)\n",
    "pump_head_array_3000rpm = get_pump_head_at3000rpm_m(vol_flow_m3_per_h_array)\n",
    "fig.add_scatter(x=vol_flow_m3_per_h_array, y=pump_head_array_3000rpm, name=\"Interpolated @3000RPM\")\n",
    "fig.show(renderer=\"svg\")"
   ],
   "metadata": {
    "collapsed": false
   }
  },
  {
   "cell_type": "markdown",
   "source": [
    "### 1.1 What will be the flow from the pump at n=3000 RPM when the pump is connected to a piping system with the following characteristics\n",
    "\n",
    "$$\n",
    "    \\frac{\\Delta p}{\\rho g} = H = 3.0 + 2.0\\cdot10^{-5}Q^2\n",
    "$$\n",
    "\n",
    "======================= Answer ======================="
   ],
   "metadata": {
    "collapsed": false
   }
  },
  {
   "cell_type": "code",
   "execution_count": null,
   "outputs": [],
   "source": [
    "# Lets plot the system head loss curve.\n",
    "def get_head_loss_m(vol_flow_m3_per_h) -> float:\n",
    "    # You code here. Implement a function that returns the head from given volume flow\n",
    "    # It should be able to accept `vol_flow_m3_per_h` as a numpy array\n",
    "    return head_loss_m\n",
    "\n",
    "\n",
    "head_loss_m_array = get_head_loss_m(vol_flow_m3_per_h_array)\n",
    "\n",
    "fig = make_subplots()\n",
    "fig.add_scatter(x=vol_flow_m3_per_h_array, y=pump_head_array_3000rpm, name=\"pump\")\n",
    "fig.add_scatter(x=vol_flow_m3_per_h_array, y=head_loss_m_array, name=\"head loss\")\n",
    "fig.show(renderer=\"svg\")"
   ],
   "metadata": {
    "collapsed": false,
    "pycharm": {
     "is_executing": true
    }
   }
  },
  {
   "cell_type": "code",
   "execution_count": 36,
   "outputs": [
    {
     "name": "stdout",
     "output_type": "stream",
     "text": [
      "Flow when the piping is connected: 975.7 m3/h\n"
     ]
    }
   ],
   "source": [
    "# Solve it numerically\n",
    "def function_to_solve(vol_flow_m3_per_h) -> float:\n",
    "    # Implement the function to solve the equation: f_pump_head(vol_flow) = f_head_loss(vol_flow)\n",
    "    return error\n",
    "\n",
    "\n",
    "sol = root_scalar(f=function_to_solve, x0=800, x1=900)\n",
    "if sol.converged:\n",
    "    vol_flow_with_piping_m3_per_h = sol.root\n",
    "    print(f\"Flow when the piping is connected: {vol_flow_with_piping_m3_per_h:.1f} m3/h\")"
   ],
   "metadata": {
    "collapsed": false
   }
  },
  {
   "cell_type": "markdown",
   "source": [
    "### 1.2 What will be the flow if we change the speed from 3000 RPM to 2000 RPM?\n",
    "\n",
    "=============== Answer =================\n"
   ],
   "metadata": {
    "collapsed": false
   }
  },
  {
   "cell_type": "code",
   "execution_count": 37,
   "outputs": [],
   "source": [
    "# define the function to for the affinity law\n",
    "def get_new_flow_affinity(\n",
    "        vol_flow_m3_per_h: float, speed_rpm: float, new_speed_rpm: float\n",
    ") -> float:\n",
    "    \"\"\"Returns new flow according to the affinity rule\"\"\"\n",
    "    return # Your code here. Write the affinity to get the new flow for the new speed\n",
    "\n",
    "def get_new_head_affinity(head_m: float, speed_rpm: float, new_speed_rpm: float) -> float:\n",
    "    \"\"\"Returns new head according to the affinity rule\"\"\"\n",
    "    return # Your code here. Write the affinity to get the new head for the new speed\n",
    "\n",
    "ref_speed_rpm = 3000\n",
    "\n",
    "def get_pump_head_new_speed_m(vol_flow_m3_per_h: float, speed_rpm: float) -> float:\n",
    "    # Your code here. Here you should implement the function that provides the new\n",
    "    # pump curve for the new speed. Hint: Use the above affinity rule and the\n",
    "    # original pump head function `get_pump_head_at3000rpm_m` to find the new curve\n",
    "    # function\n",
    "\n",
    "    return pump_head_m"
   ],
   "metadata": {
    "collapsed": false
   }
  },
  {
   "cell_type": "code",
   "execution_count": null,
   "outputs": [],
   "source": [
    "# Plot the pump curve for 2000 RPM\n",
    "vol_flow_m3_per_h_array_2000rpm = np.linspace(\n",
    "    0, vol_flow_m3_per_h_array.max() * 2000 / 3000\n",
    ")\n",
    "pump_head_array_2000rpm = get_pump_head_new_speed_m(\n",
    "    vol_flow_m3_per_h=vol_flow_m3_per_h_array_2000rpm, speed_rpm=2000\n",
    ")\n",
    "fig = make_subplots()\n",
    "fig.add_scatter(x=vol_flow_m3_per_h_array, y=pump_head_array_3000rpm, name=\"pump - 3000 RPM\")\n",
    "fig.add_scatter(x=vol_flow_m3_per_h_array_2000rpm, y=pump_head_array_2000rpm, name=\"pump - 2000 RPM\")\n",
    "fig.add_scatter(x=vol_flow_m3_per_h_array, y=head_loss_m_array, name=\"System head loss\")\n",
    "fig.show(renderer=\"svg\")"
   ],
   "metadata": {
    "collapsed": false,
    "pycharm": {
     "is_executing": true
    }
   }
  },
  {
   "cell_type": "code",
   "execution_count": 39,
   "outputs": [
    {
     "name": "stdout",
     "output_type": "stream",
     "text": [
      "Flow will be reduced to: 624.5 m3/h\n"
     ]
    }
   ],
   "source": [
    "# Solving it numerically\n",
    "def function_to_solve(vol_flow_m3_per_h: float) -> float:\n",
    "    # Your code here. Implement the equation to solve the equation for the operating point.\n",
    "    return head_loss - pump_head\n",
    "sol = root_scalar(f=function_to_solve, x0=600, x1=610)\n",
    "if sol.converged:\n",
    "    print(f\"Flow will be reduced to: {sol.root:.1f} m3/h\")"
   ],
   "metadata": {
    "collapsed": false
   }
  },
  {
   "cell_type": "markdown",
   "source": [
    "### 1.3 What should be the speed when the flow is reduced to 500m3/h?\n",
    "\n",
    "============== Answer ================\n"
   ],
   "metadata": {
    "collapsed": false
   }
  },
  {
   "cell_type": "code",
   "execution_count": null,
   "outputs": [],
   "source": [
    "vol_flow_m3_per_h = 500\n",
    "\n",
    "def function_to_solve(speed_rpm: float) -> float:\n",
    "    # Your code here. You can use the system head loss function and the new\n",
    "    # function for the pump head `get_pump_head_new_speed_m` to find the\n",
    "    # equilibrium point.\n",
    "    return head_loss_m - pump_head_m\n",
    "\n",
    "sol = root_scalar(f=function_to_solve, x0=2000, x1=1900)\n",
    "if sol.converged:\n",
    "    pump_head = get_pump_head_new_speed_m(vol_flow_m3_per_h, speed_rpm=sol.root)\n",
    "    print(f\"The pump speed is {sol.root:.1f} RPM when the flow is {vol_flow_m3_per_h}m3/h\")\n",
    "    print(f\"The pump head is {pump_head:.1f}m\")"
   ],
   "metadata": {
    "collapsed": false,
    "pycharm": {
     "is_executing": true
    }
   }
  },
  {
   "cell_type": "markdown",
   "source": [
    "### 1.4 Flow control by throttling\n",
    "We would like to reduce the flow to 500m3/h by throttling the valve while maintaining the pump at 3000 RPM. How can this be done? What will be the pump head in this case? Compare the power consumption for this case with the case where the pump speed was controlled. The efficiency of the pump is 0.6 for both cases. The density of the fluid is 1000kg/m3.\n",
    "\n",
    "============ Answer =============\n",
    "\n"
   ],
   "metadata": {
    "collapsed": false
   }
  },
  {
   "cell_type": "code",
   "execution_count": null,
   "outputs": [],
   "source": [
    "vol_flow_m3_per_h = 500\n",
    "head_loss_m = # Your code here to calculate the head loss or pump head for the given volume flow\n",
    "print(f\"The pump head when throttling is {head_loss_m:.1f}m\")\n",
    "efficiency = 0.6\n",
    "density_kg_per_m3 = 1000\n",
    "grav_acc_m_per_s2 = 9.81\n",
    "power_kw_throttling = # Your code to calculate the power consumption for the pump when throttling\n",
    "print(f\"The power consumption when throttling is {power_kw_throttling:.1f} kW\")\n",
    "power_kw_speed = # Your code to calculate the power consumption for the pump when reducing the speed\n",
    "print(f\"The power consumption when reducing the speed is {power_kw_speed:.1f} kW\")"
   ],
   "metadata": {
    "collapsed": false,
    "pycharm": {
     "is_executing": true
    }
   }
  },
  {
   "cell_type": "markdown",
   "source": [
    "## Task 2 Positive Displacement Pump\n",
    "\n",
    "A pump has a displacement volume of 120 cm3. It delivers 0.0015 m3/s at 1440 RPM and 60 bar. The prime mover input torque is 130 Nm.\n",
    "\n",
    "### 2.1 Efficiency of the pump\n",
    "\n",
    "What is the overall efficiency of the pump and what is the theoretical torque required to operate the pump?\n"
   ],
   "metadata": {
    "collapsed": false
   }
  },
  {
   "cell_type": "code",
   "execution_count": 51,
   "outputs": [
    {
     "name": "stdout",
     "output_type": "stream",
     "text": [
      "Overall efficiency: 0.459\n",
      "Volumetric efficiency: 0.521\n",
      "Mechanical efficiency: 0.881\n",
      "Ideal torque: 114.6Nm\n"
     ]
    }
   ],
   "source": [
    "# Followings are given\n",
    "vol_displacement_m3 = 120e-6\n",
    "vol_flow_m3_per_s = 0.0015\n",
    "speed_rpm = 1440\n",
    "p_pump_pa = 60e5\n",
    "torque_shaft_nm = 130\n",
    "\n",
    "# Calculate the overall efficiency\n",
    "overall_eff = # Your code here to calculate the overall efficiency\n",
    "print(f\"Overall efficiency: {overall_eff:.3f}\")\n",
    "\n",
    "# Calculate the volumetric efficiency\n",
    "vol_eff = # Your code here to calculate the volumetric efficiency\n",
    "print(f\"Volumetric efficiency: {vol_eff:.3f}\")\n",
    "\n",
    "# Ideal torque to operate the pump\n",
    "mech_eff = # Your code here to calculate the mechanical efficiency\n",
    "torque_ideal_nm = # Your code here to calculate the ideal torque\n",
    "print(f\"Mechanical efficiency: {mech_eff:.3f}\")\n",
    "print(f\"Ideal torque: {torque_ideal_nm:.1f}Nm\")\n"
   ],
   "metadata": {
    "collapsed": false
   }
  },
  {
   "cell_type": "markdown",
   "source": [
    "### 2.2 Economic calculation\n",
    "\n",
    "The pump is driven by an electric motor having an overall efficiency of 88%. The hydraulic system operates 12 h/d for 250 days per year. The cost of electricity is 1,00 kr / kWh.\n",
    "\n",
    "Determine the yearly cost of electricity to operate the hydraulic system and the amount of the yearly cost of the electricity due to the energy loss in the motor and the pump."
   ],
   "metadata": {
    "collapsed": false
   }
  },
  {
   "cell_type": "code",
   "execution_count": null,
   "outputs": [],
   "source": [
    "# Followings are given\n",
    "operation_hours_per_day = 12\n",
    "operation_days = 250\n",
    "elec_motor_eff = 0.88\n",
    "price_electricity_kr_per_kwh = 1\n",
    "\n",
    "# Amount of energy used by the pump per year\n",
    "cost_elec_total_kr = # Your code to calculate total electric cost\n",
    "cost_loss_elec_motor = # Your code to calculate electric cost due to loss in the electric motor\n",
    "cost_loss_pump = # Your code to calculate electric cost due to loss in the pump\n",
    "\n",
    "print(\"Cost [kr]\")\n",
    "print(f\"\\tTotal: {cost_elec_total_kr:.1f}\")\n",
    "print(f\"\\tElectric motor loss: {cost_loss_elec_motor:.1f}\")\n",
    "print(f\"\\tPump loss: {cost_loss_pump:.1f}\")"
   ],
   "metadata": {
    "collapsed": false,
    "pycharm": {
     "is_executing": true
    }
   }
  },
  {
   "cell_type": "code",
   "execution_count": null,
   "outputs": [],
   "source": [],
   "metadata": {
    "collapsed": false
   }
  }
 ],
 "metadata": {
  "kernelspec": {
   "display_name": "Python 3",
   "language": "python",
   "name": "python3"
  },
  "language_info": {
   "codemirror_mode": {
    "name": "ipython",
    "version": 2
   },
   "file_extension": ".py",
   "mimetype": "text/x-python",
   "name": "python",
   "nbconvert_exporter": "python",
   "pygments_lexer": "ipython2",
   "version": "2.7.6"
  }
 },
 "nbformat": 4,
 "nbformat_minor": 0
}
