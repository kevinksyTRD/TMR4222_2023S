{
 "cells": [
  {
   "cell_type": "markdown",
   "metadata": {},
   "source": [
    "# Exercise 3 Pump Theory and Performance"
   ]
  },
  {
   "cell_type": "markdown",
   "metadata": {},
   "source": [
    "## Task 1"
   ]
  },
  {
   "cell_type": "markdown",
   "metadata": {},
   "source": [
    "<p style=\"text-align: center\">\n",
    "<img src=\"img/Exercise_3_1_pump_velocity_diagram.png\" width=600>\n",
    "</p>\n",
    "\n",
    "For a centrifugal pump, the following data are provided.\n",
    "\n",
    "- \\\\(\\beta_1 = 45^o \\\\), \\\\(\\beta_2 = 30^o \\\\)\n",
    "- \\\\(r_1 = 0.075\\\\)m, \\\\(r_2 = 0.15\\\\)m\n",
    "- The width of the impeller at inlet and outlet: \\\\(b = 0.05 m\\\\)\n",
    "- impeller speed: \\\\(n = 3000\\\\) RPM"
   ]
  },
  {
   "cell_type": "markdown",
   "metadata": {},
   "source": [
    "### 1.1 Calculate all velocities (U, V, W) and draw the velocity triangles. Assume no rotation in the inlet flow. What is the ideal volume flow of the pump?"
   ]
  },
  {
   "cell_type": "code",
   "execution_count": 2,
   "metadata": {
    "collapsed": false,
    "jupyter": {
     "outputs_hidden": false
    }
   },
   "outputs": [],
   "source": [
    "# First import all the packages\n",
    "import os\n",
    "\n",
    "import pandas as pd\n",
    "from fluids import friction, core, fittings\n",
    "from fluids.piping import nearest_pipe\n",
    "from pyfluids import Fluid, FluidsList, Input\n",
    "import numpy as np\n",
    "from scipy.optimize import root_scalar\n",
    "from scipy.interpolate import interp1d\n",
    "from plotly.subplots import make_subplots\n",
    "import plotly.graph_objects as go\n",
    "\n",
    "pd.options.plotting.backend = \"plotly\""
   ]
  },
  {
   "cell_type": "code",
   "execution_count": null,
   "metadata": {
    "collapsed": false,
    "jupyter": {
     "outputs_hidden": false
    }
   },
   "outputs": [],
   "source": [
    "# Plot the velocity triangle\n",
    "def plot_velocity_triangle(u: float, v: float, alpha_deg: float):\n",
    "    \"\"\"Plots the velocity triangle\n",
    "\n",
    "    :param u: the length of u vector\n",
    "    :param v: the length of v vector\n",
    "    :param alpha_deg: the angle between u and v vector\n",
    "    :\n",
    "    \"\"\"\n",
    "    fig = make_subplots()\n",
    "    fig.add_scatter(x=[0, u], y=[0, 0], name=\"u\")\n",
    "    alpha_rad = np.deg2rad(alpha_deg)\n",
    "    fig.add_scatter(x=[0, v * np.cos(alpha_rad)], y=[0, v * np.sin(alpha_rad)], name=\"v\")\n",
    "    fig.add_scatter(x=[u, v * np.cos(alpha_rad)], y=[0, v * np.sin(alpha_rad)], name=\"w\")\n",
    "    fig.update_layout(height=300, width=500)\n",
    "    fig.update_yaxes(scaleanchor=\"x\", scaleratio=1)\n",
    "    fig.show(renderer=\"png\")"
   ]
  },
  {
   "cell_type": "markdown",
   "metadata": {},
   "source": [
    "Write the equations to find the vectors.\n",
    "\n"
   ]
  },
  {
   "cell_type": "code",
   "execution_count": null,
   "metadata": {
    "collapsed": false,
    "jupyter": {
     "outputs_hidden": false
    }
   },
   "outputs": [],
   "source": [
    "# Followings are given\n",
    "impeller_radius_inlet_m = \n",
    "impeller_radius_outlet_m =\n",
    "impeller_blade_angle_inlet_deg =\n",
    "impeller_blade_angle_outlet_deg =\n",
    "b_m =\n",
    "impeller_speed_rpm =\n",
    "\n",
    "# Velocities at the inlet\n",
    "u1 = \n",
    "v1 = \n",
    "w1 = \n",
    "alpha1_deg = \n",
    "\n",
    "print(\"The length of the vectors:\")\n",
    "print(f\"\\tu1: {u1:.1f} m\")\n",
    "print(f\"\\tV1: {v1:.1f} m\")\n",
    "print(f\"\\tw1: {w1:.1f} m\")\n",
    "print(\"The angles:\")\n",
    "print(f\"\\talpha1: {alpha1_deg} degree\")\n",
    "print(f\"\\tbeta1: {impeller_blade_angle_inlet_deg} degree\")\n",
    "\n",
    "# Calculate flow from the inlet velocity\n",
    "volume_flow_m3_per_s =\n",
    "print(f\"Volume flow [m3/s]: {volume_flow_m3_per_s:.2f}\")\n",
    "\n",
    "\n",
    "plot_velocity_triangle(u=u1, v=v1, alpha_deg=alpha1_deg)"
   ]
  },
  {
   "cell_type": "code",
   "execution_count": null,
   "metadata": {
    "collapsed": false,
    "jupyter": {
     "outputs_hidden": false
    }
   },
   "outputs": [],
   "source": [
    "# Velocities at the outlet\n",
    "u2 = \n",
    "v2 = \n",
    "alpha2_deg = \n",
    "w2 = \n",
    "\n",
    "print(\"The length of the vectors:\")\n",
    "print(f\"\\tu2: {u2:.1f} m/s\")\n",
    "print(f\"\\tV2: {v2:.1f} m/s\")\n",
    "print(f\"\\tw2: {w2} m/s\")\n",
    "print(\"The angles:\")\n",
    "print(f\"\\talpha1: {alpha2_deg:.1f} degree\")\n",
    "print(f\"\\tbeta1: {impeller_blade_angle_outlet_deg} degree\")\n",
    "\n",
    "plot_velocity_triangle(u=u2, v=v2, alpha_deg=alpha2_deg)"
   ]
  },
  {
   "cell_type": "markdown",
   "metadata": {},
   "source": [
    "### 1.2 The stated actual capacity of this pump is 0.5 m<sup>3</sup>/s – and now probably zero fluid rotation does not apply at the inlet assumption. Draw the velocity triangle at inlet now and set rhe angle between absolute velocity and rotational velocity. Comment on this in relation to expected \"real flow conditions at inlet and outlet\""
   ]
  },
  {
   "cell_type": "code",
   "execution_count": null,
   "metadata": {
    "collapsed": false,
    "jupyter": {
     "outputs_hidden": false
    }
   },
   "outputs": [],
   "source": [
    "# Updating the vector components with the given capacity\n",
    "volume_flow_m3_per_s = 0.5\n",
    "v1_real = \n",
    "alpha1_real_deg = \n",
    "w1_real = \n",
    "\n",
    "print(\"The length of the vectors:\")\n",
    "print(f\"\\tu1: {u1:.1f} m\")\n",
    "print(f\"\\tV1: {v1_real:.1f} m\")\n",
    "print(f\"\\tw1: {w1_real:.1f} m\")\n",
    "print(\"The angles:\")\n",
    "print(f\"\\talpha1: {alpha1_real_deg:.1f} degree\")\n",
    "print(f\"\\tbeta1: {impeller_blade_angle_inlet_deg} degree\")\n",
    "\n",
    "plot_velocity_triangle(u=u1, v=v1_real, alpha_deg=alpha1_real_deg)\n"
   ]
  },
  {
   "cell_type": "markdown",
   "metadata": {},
   "source": [
    "### 1.3 Find an expression of how theoretical lifting height varies with speed and volume flow. Create a graph in that shows this for relevant values of \\\\(\\omega\\\\) and \\\\(Q\\\\) for this pump (Tip: 3D plot?)\n",
    "\n",
    "(Hint: Start with the Euler's equation and with the assumption of no rotational flow at inlet. Replace the velocities with flow and angular velocity)\n",
    "\n",
    "Derive the equation here.\n",
    "\n",
    "\n"
   ]
  },
  {
   "cell_type": "code",
   "execution_count": null,
   "metadata": {
    "collapsed": false,
    "jupyter": {
     "outputs_hidden": false
    }
   },
   "outputs": [],
   "source": [
    "vol_flow_m3_per_s_array = np.linspace(0, 0.6, 7)\n",
    "impeller_speed_rad_per_s_array = np.linspace(0, impeller_speed_rpm / 30 * np.pi, 7)\n",
    "xy_array = np.meshgrid(vol_flow_m3_per_s_array, impeller_speed_rad_per_s_array)\n",
    "\n",
    "def get_theoretical_head(\n",
    "        vol_flow_m_per_s: np.ndarray, impeller_speed_rad_per_s: np.ndarray\n",
    ") -> np.ndarray:\n",
    "    return # Write the equation here\n",
    "\n",
    "head_2d_array = get_theoretical_head(\n",
    "    vol_flow_m_per_s=xy_array[0], impeller_speed_rad_per_s=xy_array[1]\n",
    ")\n",
    "\n",
    "fig = go.Figure(go.Surface(\n",
    "    x=vol_flow_m3_per_s_array * 3600,\n",
    "    y=impeller_speed_rad_per_s_array * 30 / np.pi,\n",
    "    z=head_2d_array\n",
    "))\n",
    "fig.update_layout(scene=dict(\n",
    "    xaxis_title=\"vol. flow [m3/h]\",\n",
    "    yaxis_title=\"impeller speed [RPM]\",\n",
    "    zaxis_title=\"head [m]\"\n",
    "))\n",
    "fig.show(renderer=\"svg\")"
   ]
  },
  {
   "cell_type": "markdown",
   "metadata": {},
   "source": [
    "## Task 2\n",
    "A centrifugal pump in a pipe system has the following characteristic:\n",
    "\n",
    "$$\n",
    "\\Delta p_{pump} = \\rho g H = 3.0 - 2.0e-5Q^2\n",
    "$$\n",
    "\n",
    "at 1450 RPM.\n",
    "\n",
    "The piping system that is connected to the pump has the following characteristics:\n",
    "- length 20m\n",
    "- nominal diameter: 100mm\n",
    "- schedule: 40\n",
    "- friction coefficient due to valves and fittings: 15\n",
    "- material: steel\n",
    "- fluid: water at 20<sup>o</sup>C\n"
   ]
  },
  {
   "cell_type": "code",
   "execution_count": null,
   "metadata": {
    "collapsed": false,
    "jupyter": {
     "outputs_hidden": false
    }
   },
   "outputs": [],
   "source": [
    "# The following is given\n",
    "def get_pump_dp(vol_flow_m3_h: float) -> float:\n",
    "    return # Write the pump-head formula \n",
    "vol_flow_m3_h_array = np.linspace(0, 350, 36)\n",
    "fig = make_subplots()\n",
    "fig.add_scatter(x=vol_flow_m3_h_array, y=get_pump_dp(vol_flow_m3_h_array))\n",
    "fig.update_xaxes(title=\"vol. flow [m3/h]\")\n",
    "fig.update_yaxes(title=\"pump head [bar]\")\n",
    "fig.show()\n",
    "\n",
    "length_m = \n",
    "nominal_dia_m = \n",
    "schedule = \n",
    "material = \n",
    "k_fitting = 5\n",
    "fluid = # Use Fluid class to define the fluid\n",
    "_, inner_dia_m, _, _ = # Use nearest_pipe function to get the inner diameter\n",
    "roughness = # Use mat"
   ]
  },
  {
   "cell_type": "markdown",
   "metadata": {},
   "source": [
    "### 2.1 Find the system operating point"
   ]
  },
  {
   "cell_type": "code",
   "execution_count": null,
   "metadata": {
    "collapsed": false,
    "jupyter": {
     "outputs_hidden": false
    }
   },
   "outputs": [],
   "source": [
    "# Let's plot the pressure drop on the pump\n",
    "def get_pressure_drop(vol_flow_m3_h: float) -> float:\n",
    "    \"\"\"Returns the pressure drop in bar\"\"\"\n",
    "    pipe_friction = friction.one_phase_dP(\n",
    "        m=vol_flow_m3_h / 3600 * fluid.density,\n",
    "        rho=fluid.density,\n",
    "        mu=fluid.dynamic_viscosity,\n",
    "        D=inner_dia_m,\n",
    "        roughness=roughness,\n",
    "        L=length_m\n",
    "    )\n",
    "    area_pipe_m3 = np.pi * inner_dia_m**2 / 4\n",
    "    velocity_m_per_s = vol_flow_m3_h / 3600 / area_pipe_m3\n",
    "    fitting_friction = core.dP_from_K(K=k_fitting, rho=fluid.density, V=velocity_m_per_s)\n",
    "    return (pipe_friction + fitting_friction) / 1e5\n",
    "\n",
    "pressure_drop_array = np.array([\n",
    "    get_pressure_drop(vol_flow_m3_h) for vol_flow_m3_h in vol_flow_m3_h_array\n",
    "])\n",
    "fig.add_scatter(x=vol_flow_m3_h_array, y=pressure_drop_array, name=\"pressure drop\")\n",
    "fig.update_yaxes(title=\"Pump head / pressure drop [bar]\")\n",
    "fig.show()\n",
    "\n",
    "def func_to_solve(vol_m3_per_h: float) -> float:\n"
   ]
  },
  {
   "cell_type": "code",
   "execution_count": null,
   "metadata": {
    "collapsed": false,
    "jupyter": {
     "outputs_hidden": false
    }
   },
   "outputs": [],
   "source": [
    "### 3.2 The"
   ]
  }
 ],
 "metadata": {
  "kernelspec": {
   "display_name": "Python 3 (ipykernel)",
   "language": "python",
   "name": "python3"
  },
  "language_info": {
   "codemirror_mode": {
    "name": "ipython",
    "version": 3
   },
   "file_extension": ".py",
   "mimetype": "text/x-python",
   "name": "python",
   "nbconvert_exporter": "python",
   "pygments_lexer": "ipython3",
   "version": "3.9.15"
  }
 },
 "nbformat": 4,
 "nbformat_minor": 4
}
